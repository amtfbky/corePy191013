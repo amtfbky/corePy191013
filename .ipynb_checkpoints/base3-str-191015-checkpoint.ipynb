{
 "cells": [
  {
   "cell_type": "markdown",
   "metadata": {},
   "source": [
    "# 使用字符串\n"
   ]
  },
  {
   "cell_type": "code",
   "execution_count": 1,
   "metadata": {},
   "outputs": [
    {
     "ename": "TypeError",
     "evalue": "'str' object does not support item assignment",
     "output_type": "error",
     "traceback": [
      "\u001b[0;31m---------------------------------------------------------------------------\u001b[0m",
      "\u001b[0;31mTypeError\u001b[0m                                 Traceback (most recent call last)",
      "\u001b[0;32m<ipython-input-1-faf0a8edd00b>\u001b[0m in \u001b[0;36m<module>\u001b[0;34m()\u001b[0m\n\u001b[1;32m      1\u001b[0m \u001b[0;31m# 字符串是不可变的,因此所有的元素赋值和切片赋值都是非法的\u001b[0m\u001b[0;34m\u001b[0m\u001b[0;34m\u001b[0m\u001b[0;34m\u001b[0m\u001b[0m\n\u001b[1;32m      2\u001b[0m \u001b[0mwebsite\u001b[0m \u001b[0;34m=\u001b[0m \u001b[0;34m'http://www.python.org'\u001b[0m\u001b[0;34m\u001b[0m\u001b[0;34m\u001b[0m\u001b[0m\n\u001b[0;32m----> 3\u001b[0;31m \u001b[0mwebsite\u001b[0m\u001b[0;34m[\u001b[0m\u001b[0;34m-\u001b[0m\u001b[0;36m3\u001b[0m\u001b[0;34m:\u001b[0m\u001b[0;34m]\u001b[0m \u001b[0;34m=\u001b[0m \u001b[0;34m'com'\u001b[0m\u001b[0;34m\u001b[0m\u001b[0;34m\u001b[0m\u001b[0m\n\u001b[0m",
      "\u001b[0;31mTypeError\u001b[0m: 'str' object does not support item assignment"
     ]
    }
   ],
   "source": [
    "# 字符串是不可变的,因此所有的元素赋值和切片赋值都是非法的\n",
    "website = 'http://www.python.org'\n",
    "website[-3:] = 'com' # 'str' object does not support item assignment“str”对象不支持项分配"
   ]
  },
  {
   "cell_type": "markdown",
   "metadata": {},
   "source": [
    "## 设置字符串的格式：精简版\n"
   ]
  },
  {
   "cell_type": "code",
   "execution_count": 2,
   "metadata": {},
   "outputs": [
    {
     "data": {
      "text/plain": [
       "'Hello, world. Hot enough for ya?'"
      ]
     },
     "execution_count": 2,
     "metadata": {},
     "output_type": "execute_result"
    }
   ],
   "source": [
    "'''\n",
    "将值转换为字符串并设置其格式是一个重要的操作,需要考虑众多不同的需求,因此随着时间的流逝,Python提供了多种字符串格式设置方法。以前,主要的\n",
    "解决方案是使用字符串格式设置运算符——百分号。这个运算符的行为类似于C语言中的经典函数 printf :在 % 左边指定一个字符串(格式字符串),并在\n",
    "右边指定要设置其格式的值。指定要设置其格式的值时,可使用单个值(如字符串或数字),可使用元组(如果要设置多个值的格式),还可使用字典(这将在下\n",
    "一章讨论),其中最常见的是元组。\n",
    "'''\n",
    "format = \"Hello, % s. % s enough for ya?\"\n",
    "values = ('world', 'Hot')\n",
    "format % values"
   ]
  },
  {
   "cell_type": "code",
   "execution_count": 3,
   "metadata": {},
   "outputs": [
    {
     "data": {
      "text/plain": [
       "'Hello, Mars! Dusty enough for ya?'"
      ]
     },
     "execution_count": 3,
     "metadata": {},
     "output_type": "execute_result"
    }
   ],
   "source": [
    "'''\n",
    "上述格式字符串中的 % s 称为转换说明符,指出了要将值插入什么地方。 s 意味着将值视为字符串进行格式设置。如果指定的值不是字符串,将使用\n",
    "str 将其转换为字符串。其他说明符将导致其他形式的转换。例如, % .3f 将值的格式设置为包含3位小数的浮点数。\n",
    "这种格式设置方法现在依然管用,且依然活跃在众多代码中,因此你很可能遇到。可能遇到的另一种解决方案是所谓的模板字符串。它使用类似于\n",
    "UNIX shell的语法,旨在简化基本的格式设置机制,如下所示:\n",
    "'''\n",
    "from string import Template\n",
    "\n",
    "tmpl = Template(\"Hello, $who! $what enough for ya?\")\n",
    "tmpl.substitute(who=\"Mars\", what=\"Dusty\")"
   ]
  },
  {
   "cell_type": "code",
   "execution_count": 4,
   "metadata": {},
   "outputs": [
    {
     "data": {
      "text/plain": [
       "'first, second and third'"
      ]
     },
     "execution_count": 4,
     "metadata": {},
     "output_type": "execute_result"
    }
   ],
   "source": [
    "'''\n",
    "包含等号的参数称为关键字参数,第6章将详细介绍这个术语。在字符串格式设置中,可将关键字参数视为一种向命名替换字段提供值的方式。\n",
    "编写新代码时,应选择使用字符串方法 format ,它融合并强化了早期方法的优点。使用这种方法时,每个替换字段都用花括号括起,其中可能包含名称,还\n",
    "可能包含有关如何对相应的值进行转换和格式设置的信息。\n",
    "在最简单的情况下,替换字段没有名称或将索引用作名称。\n",
    "'''\n",
    "\"{}, {} and {}\".format(\"first\", \"second\", \"third\")"
   ]
  },
  {
   "cell_type": "code",
   "execution_count": 5,
   "metadata": {},
   "outputs": [
    {
     "data": {
      "text/plain": [
       "'first, second and third'"
      ]
     },
     "execution_count": 5,
     "metadata": {},
     "output_type": "execute_result"
    }
   ],
   "source": [
    "\"{0}, {1} and {2}\".format(\"first\", \"second\", \"third\")"
   ]
  },
  {
   "cell_type": "code",
   "execution_count": 6,
   "metadata": {},
   "outputs": [
    {
     "data": {
      "text/plain": [
       "'to be or not to be'"
      ]
     },
     "execution_count": 6,
     "metadata": {},
     "output_type": "execute_result"
    }
   ],
   "source": [
    "# 索引无需像上面这样按顺序排列\n",
    "\"{3} {0} {2} {1} {3} {0}\".format(\"be\", \"not\", \"or\", \"to\")"
   ]
  },
  {
   "cell_type": "code",
   "execution_count": 7,
   "metadata": {},
   "outputs": [
    {
     "data": {
      "text/plain": [
       "'π is approximately 3.14.'"
      ]
     },
     "execution_count": 7,
     "metadata": {},
     "output_type": "execute_result"
    }
   ],
   "source": [
    "# 命名字段的工作原理与你预期的完全相同\n",
    "from math import pi\n",
    "\n",
    "\"{name} is approximately {value:.2f}.\".format(value=pi, name=\"π\") # 大约=3.14"
   ]
  },
  {
   "cell_type": "code",
   "execution_count": 8,
   "metadata": {},
   "outputs": [
    {
     "data": {
      "text/plain": [
       "'π is approximately 3.141592653589793.'"
      ]
     },
     "execution_count": 8,
     "metadata": {},
     "output_type": "execute_result"
    }
   ],
   "source": [
    "'''当然,关键字参数的排列顺序无关紧要。在这里,我还指定了格式说明符 .2f ,并使用冒号将其与字段名隔开。它意味着要使用包含2位小数的浮点数\n",
    "格式。如果没有指定 .2f ,结果将如下:'''\n",
    "\"{name} is approximately {value}.\".format(value=pi, name=\"π\")"
   ]
  },
  {
   "cell_type": "code",
   "execution_count": 9,
   "metadata": {},
   "outputs": [
    {
     "data": {
      "text/plain": [
       "\"Euler's constant is roughly 2.718281828459045.\""
      ]
     },
     "execution_count": 9,
     "metadata": {},
     "output_type": "execute_result"
    }
   ],
   "source": [
    "# 在Python 3.6中,如果变量与替换字段同名,可使用 f 字符串——在字符串前面加上 f\n",
    "from math import e\n",
    "\n",
    "f\"Euler's constant is roughly {e}.\""
   ]
  },
  {
   "cell_type": "code",
   "execution_count": 10,
   "metadata": {},
   "outputs": [
    {
     "data": {
      "text/plain": [
       "\"Euler's constant is roughly 2.718281828459045.\""
      ]
     },
     "execution_count": 10,
     "metadata": {},
     "output_type": "execute_result"
    }
   ],
   "source": [
    "#在这里,创建最终的字符串时,将把替换字段 e 替换为变量 e 的值。这与下面这个更明确一些的表达式等价:\n",
    "\"Euler's constant is roughly {e}.\".format(e=e)"
   ]
  },
  {
   "cell_type": "markdown",
   "metadata": {},
   "source": [
    "## 字符串方法\n",
    "- 很多方法都是从模块 string 那里“继承”而来的\n",
    "- 模块 string 未死\n",
    "    - string.digits :包含数字0~9的字符串\n",
    "    - string.ascii_letters :包含所有ASCII字母(大写和小写)的字符串\n",
    "    - string.ascii_lowercase :包含所有小写ASCII字母的字符串\n",
    "    - string.printable :包含所有可打印的ASCII字符的字符串\n",
    "    - string.punctuation :包含所有ASCII标点字符的字符串\n",
    "    - string.ascii_uppercase :包含所有大写ASCII字母的字符串\n",
    "    - 虽然说的是ASCII字符,但值实际上是未解码的Unicode字符串"
   ]
  },
  {
   "cell_type": "code",
   "execution_count": 11,
   "metadata": {},
   "outputs": [
    {
     "data": {
      "text/plain": [
       "'     The Middle by Jimmy Eat World     '"
      ]
     },
     "execution_count": 11,
     "metadata": {},
     "output_type": "execute_result"
    }
   ],
   "source": [
    "# 方法 center 通过在两边添加填充字符(默认为空格)让字符串居中\n",
    "\"The Middle by Jimmy Eat World\".center(39) # 中间吉米吃世界"
   ]
  },
  {
   "cell_type": "code",
   "execution_count": 12,
   "metadata": {},
   "outputs": [
    {
     "data": {
      "text/plain": [
       "'*****The Middle by Jimmy Eat World*****'"
      ]
     },
     "execution_count": 12,
     "metadata": {},
     "output_type": "execute_result"
    }
   ],
   "source": [
    "\"The Middle by Jimmy Eat World\".center(39, \"*\")"
   ]
  },
  {
   "cell_type": "code",
   "execution_count": 13,
   "metadata": {},
   "outputs": [
    {
     "data": {
      "text/plain": [
       "7"
      ]
     },
     "execution_count": 13,
     "metadata": {},
     "output_type": "execute_result"
    }
   ],
   "source": [
    "# 方法 find 在字符串中查找子串。如果找到,就返回子串的第一个字符的索引,否则返回 -1\n",
    "'With a moo-moo here, and a moo-moo there'.find('moo')"
   ]
  },
  {
   "cell_type": "code",
   "execution_count": 14,
   "metadata": {},
   "outputs": [
    {
     "data": {
      "text/plain": [
       "0"
      ]
     },
     "execution_count": 14,
     "metadata": {},
     "output_type": "execute_result"
    }
   ],
   "source": [
    "title = \"Monty Python's Flying Circus\"\n",
    "title.find('Monty')"
   ]
  },
  {
   "cell_type": "code",
   "execution_count": 15,
   "metadata": {},
   "outputs": [
    {
     "data": {
      "text/plain": [
       "6"
      ]
     },
     "execution_count": 15,
     "metadata": {},
     "output_type": "execute_result"
    }
   ],
   "source": [
    "title.find('Python')"
   ]
  },
  {
   "cell_type": "code",
   "execution_count": 16,
   "metadata": {},
   "outputs": [
    {
     "data": {
      "text/plain": [
       "15"
      ]
     },
     "execution_count": 16,
     "metadata": {},
     "output_type": "execute_result"
    }
   ],
   "source": [
    "title.find('Flying')"
   ]
  },
  {
   "cell_type": "code",
   "execution_count": 17,
   "metadata": {},
   "outputs": [
    {
     "data": {
      "text/plain": [
       "-1"
      ]
     },
     "execution_count": 17,
     "metadata": {},
     "output_type": "execute_result"
    }
   ],
   "source": [
    "title.find('Zirquss')"
   ]
  },
  {
   "cell_type": "code",
   "execution_count": 18,
   "metadata": {},
   "outputs": [
    {
     "data": {
      "text/plain": [
       "0"
      ]
     },
     "execution_count": 18,
     "metadata": {},
     "output_type": "execute_result"
    }
   ],
   "source": [
    "'''\n",
    "在垃圾邮件过滤器中检查主题是否包含 '$$$' 。这种检查也可使用 find 来执行。(在Python 2.3之前的版本中,这种做法也管用,但 in 只能用于\n",
    "检查单个字符是否包含在字符串中。)\n",
    "'''\n",
    "subject = '$$$ Get rich now!!! $$$'\n",
    "subject.find('$$$') #字符串方法 find 返回的并非布尔值。如果 find 像这样返回 0 ,就意味着它在索引0处找到了指定的子串"
   ]
  },
  {
   "cell_type": "code",
   "execution_count": 19,
   "metadata": {},
   "outputs": [
    {
     "data": {
      "text/plain": [
       "20"
      ]
     },
     "execution_count": 19,
     "metadata": {},
     "output_type": "execute_result"
    }
   ],
   "source": [
    "# 还可指定搜索的起点和终点(它们都是可选的)\n",
    "# 请注意,起点和终点值(第二个和第三个参数)指定的搜索范围包含起点,但不包含终点。这是Python惯常的做法\n",
    "subject.find('$$$', 1) # 只指定了起点"
   ]
  },
  {
   "cell_type": "code",
   "execution_count": 20,
   "metadata": {},
   "outputs": [
    {
     "data": {
      "text/plain": [
       "16"
      ]
     },
     "execution_count": 20,
     "metadata": {},
     "output_type": "execute_result"
    }
   ],
   "source": [
    "subject.find('!!!')"
   ]
  },
  {
   "cell_type": "code",
   "execution_count": 21,
   "metadata": {},
   "outputs": [
    {
     "data": {
      "text/plain": [
       "-1"
      ]
     },
     "execution_count": 21,
     "metadata": {},
     "output_type": "execute_result"
    }
   ],
   "source": [
    "subject.find('!!!', 0, 16) # 同时指定了起点和终点\n",
    "# 附录B: rfind 、 index 、 rindex 、 count 、 startswith 、 endswith"
   ]
  },
  {
   "cell_type": "code",
   "execution_count": 22,
   "metadata": {},
   "outputs": [
    {
     "ename": "TypeError",
     "evalue": "sequence item 0: expected str instance, int found",
     "output_type": "error",
     "traceback": [
      "\u001b[0;31m---------------------------------------------------------------------------\u001b[0m",
      "\u001b[0;31mTypeError\u001b[0m                                 Traceback (most recent call last)",
      "\u001b[0;32m<ipython-input-22-521f513c402f>\u001b[0m in \u001b[0;36m<module>\u001b[0;34m()\u001b[0m\n\u001b[1;32m      2\u001b[0m \u001b[0mseq\u001b[0m \u001b[0;34m=\u001b[0m \u001b[0;34m[\u001b[0m\u001b[0;36m1\u001b[0m\u001b[0;34m,\u001b[0m \u001b[0;36m2\u001b[0m\u001b[0;34m,\u001b[0m \u001b[0;36m3\u001b[0m\u001b[0;34m,\u001b[0m \u001b[0;36m4\u001b[0m\u001b[0;34m,\u001b[0m \u001b[0;36m5\u001b[0m\u001b[0;34m]\u001b[0m\u001b[0;34m\u001b[0m\u001b[0;34m\u001b[0m\u001b[0m\n\u001b[1;32m      3\u001b[0m \u001b[0msep\u001b[0m \u001b[0;34m=\u001b[0m \u001b[0;34m'+'\u001b[0m\u001b[0;34m\u001b[0m\u001b[0;34m\u001b[0m\u001b[0m\n\u001b[0;32m----> 4\u001b[0;31m \u001b[0msep\u001b[0m\u001b[0;34m.\u001b[0m\u001b[0mjoin\u001b[0m\u001b[0;34m(\u001b[0m\u001b[0mseq\u001b[0m\u001b[0;34m)\u001b[0m \u001b[0;31m# 尝试合并一个数字列表\u001b[0m\u001b[0;34m\u001b[0m\u001b[0;34m\u001b[0m\u001b[0m\n\u001b[0m",
      "\u001b[0;31mTypeError\u001b[0m: sequence item 0: expected str instance, int found"
     ]
    }
   ],
   "source": [
    "# join 是一个非常重要的字符串方法,其作用与 split 相反,用于合并序列的元素\n",
    "seq = [1, 2, 3, 4, 5]\n",
    "sep = '+'\n",
    "sep.join(seq) # 尝试合并一个数字列表\n",
    "# sequence item 0: expected str instance, int found 序列项0:应为str实例，找到int"
   ]
  },
  {
   "cell_type": "code",
   "execution_count": 23,
   "metadata": {},
   "outputs": [
    {
     "data": {
      "text/plain": [
       "'1+2+3+4+5'"
      ]
     },
     "execution_count": 23,
     "metadata": {},
     "output_type": "execute_result"
    }
   ],
   "source": [
    "# 所合并序列的元素必须都是字符串\n",
    "seq = ['1', '2', '3', '4', '5']\n",
    "sep.join(seq) # 合并一个字符串列表"
   ]
  },
  {
   "cell_type": "code",
   "execution_count": 24,
   "metadata": {},
   "outputs": [
    {
     "data": {
      "text/plain": [
       "'/usr/bin/env'"
      ]
     },
     "execution_count": 24,
     "metadata": {},
     "output_type": "execute_result"
    }
   ],
   "source": [
    "dirs = '', 'usr', 'bin', 'env'\n",
    "'/'.join(dirs)"
   ]
  },
  {
   "cell_type": "code",
   "execution_count": 25,
   "metadata": {},
   "outputs": [
    {
     "name": "stdout",
     "output_type": "stream",
     "text": [
      "C:\\usr\\bin\\env\n"
     ]
    }
   ],
   "source": [
    "print('C:' + '\\\\'.join(dirs))\n",
    "# 另请参见: split"
   ]
  },
  {
   "cell_type": "code",
   "execution_count": 26,
   "metadata": {},
   "outputs": [
    {
     "data": {
      "text/plain": [
       "'trondheim hammer dance'"
      ]
     },
     "execution_count": 26,
     "metadata": {},
     "output_type": "execute_result"
    }
   ],
   "source": [
    "# 方法 lower 返回字符串的小写版本\n",
    "'Trondheim Hammer Dance'.lower()"
   ]
  },
  {
   "cell_type": "code",
   "execution_count": 27,
   "metadata": {},
   "outputs": [
    {
     "name": "stdout",
     "output_type": "stream",
     "text": [
      "Found it!\n"
     ]
    }
   ],
   "source": [
    "# 编写代码时,如果不想区分字符串的大小写(即忽略大小写的差别),这将很有用\n",
    "# 假设你要检查列表中是否包含指定的用户名。如果列表包含字符串 'gumby' ,而指定的用户名为 'Gumby' ,你将找不到它\n",
    "name = 'Gumby'\n",
    "names = ['gumby', 'smith', 'jones']\n",
    "if name.lower() in names: print('Found it!')\n",
    "# 另请参见: islower 、 istitle 、 isupper 、 translate\n",
    "# 附录B: capitalize 、 casefold 、 swapcase 、 title 、 upper"
   ]
  },
  {
   "cell_type": "code",
   "execution_count": 28,
   "metadata": {},
   "outputs": [
    {
     "data": {
      "text/plain": [
       "\"That'S All Folks\""
      ]
     },
     "execution_count": 28,
     "metadata": {},
     "output_type": "execute_result"
    }
   ],
   "source": [
    "'''\n",
    "一个与 lower 相关的方法是 title (参见附录B)。它将字符串转换为词首大写,即所有单词的首字母都大写,其他字母都小写。然而,它确定单词边界\n",
    "的方式可能导致结果不合理\n",
    "'''\n",
    "\"that's all folks\".title()"
   ]
  },
  {
   "cell_type": "code",
   "execution_count": 29,
   "metadata": {},
   "outputs": [
    {
     "data": {
      "text/plain": [
       "\"That's All, Folks\""
      ]
     },
     "execution_count": 29,
     "metadata": {},
     "output_type": "execute_result"
    }
   ],
   "source": [
    "# 另一种方法是使用模块 string 中的函数 capwords\n",
    "import string\n",
    "\n",
    "string.capwords(\"that's all, folks\") # 就这些，伙计们\n",
    "'''\n",
    "当然,要实现真正的词首大写(根据你采用的写作风格,冠词、并列连词以及不超过5个字母的介词等可能全部小写),你得自己编写代码\n",
    "'''"
   ]
  },
  {
   "cell_type": "code",
   "execution_count": 30,
   "metadata": {},
   "outputs": [
    {
     "data": {
      "text/plain": [
       "'Theez eez a test'"
      ]
     },
     "execution_count": 30,
     "metadata": {},
     "output_type": "execute_result"
    }
   ],
   "source": [
    "# 方法 replace 将指定子串都替换为另一个字符串,并返回替换后的结果\n",
    "'This is a test'.replace('is', 'eez')\n",
    "# 另请参见: translate\n",
    "# 附录B: expandtabs"
   ]
  },
  {
   "cell_type": "code",
   "execution_count": 31,
   "metadata": {},
   "outputs": [
    {
     "data": {
      "text/plain": [
       "['1', '2', '3', '4', '5']"
      ]
     },
     "execution_count": 31,
     "metadata": {},
     "output_type": "execute_result"
    }
   ],
   "source": [
    "# split 是一个非常重要的字符串方法,其作用与 join 相反,用于将字符串拆分为序列\n",
    "# 注意,如果没有指定分隔符,将默认在单个或多个连续的空白字符(空格、制表符、换行符等)处进行拆分\n",
    "'1+2+3+4+5'.split('+')"
   ]
  },
  {
   "cell_type": "code",
   "execution_count": 32,
   "metadata": {},
   "outputs": [
    {
     "data": {
      "text/plain": [
       "['', 'usr', 'bin', 'env']"
      ]
     },
     "execution_count": 32,
     "metadata": {},
     "output_type": "execute_result"
    }
   ],
   "source": [
    "'/usr/bin/env'.split('/')"
   ]
  },
  {
   "cell_type": "code",
   "execution_count": 33,
   "metadata": {},
   "outputs": [
    {
     "data": {
      "text/plain": [
       "['Using', 'the', 'default']"
      ]
     },
     "execution_count": 33,
     "metadata": {},
     "output_type": "execute_result"
    }
   ],
   "source": [
    "'Using the default'.split()\n",
    "# 另请参见: join\n",
    "# 附录B: partition 、 rpartition 、 rsplit 、 splitlines"
   ]
  },
  {
   "cell_type": "code",
   "execution_count": 34,
   "metadata": {},
   "outputs": [
    {
     "data": {
      "text/plain": [
       "'internal whitespace is kept'"
      ]
     },
     "execution_count": 34,
     "metadata": {},
     "output_type": "execute_result"
    }
   ],
   "source": [
    "# 方法 strip 将字符串开头和末尾的空白(但不包括中间的空白)删除,并返回删除后的结果\n",
    "'    internal whitespace is kept    '.strip() # internal whitespace is kept 保留内部空白"
   ]
  },
  {
   "cell_type": "code",
   "execution_count": 36,
   "metadata": {},
   "outputs": [
    {
     "name": "stdout",
     "output_type": "stream",
     "text": [
      "Found it!\n"
     ]
    }
   ],
   "source": [
    "'''\n",
    "与 lower 一样,需要将输入与存储的值进行比较时, strip 很有用。回到前面介绍 lower 时使用的用户名示例,并假定用户输入用户名时不小心在末尾\n",
    "加上了一个空格\n",
    "'''\n",
    "names = ['gumby', 'smith', 'jones']\n",
    "name = 'gumby '\n",
    "# if name in names: print('Found it!')\n",
    "if name.strip() in names: print('Found it!')"
   ]
  },
  {
   "cell_type": "code",
   "execution_count": 37,
   "metadata": {},
   "outputs": [
    {
     "data": {
      "text/plain": [
       "'SPAM * for * everyone'"
      ]
     },
     "execution_count": 37,
     "metadata": {},
     "output_type": "execute_result"
    }
   ],
   "source": [
    "# 还可在一个字符串参数中指定要删除哪些字符\n",
    "'*** SPAM * for * everyone!!! ***'.strip(' *!')\n",
    "# 这个方法只删除开头或末尾的指定字符,因此中间的星号未被删除\n",
    "# 附录B: lstrip 、 rstrip"
   ]
  },
  {
   "cell_type": "code",
   "execution_count": 38,
   "metadata": {},
   "outputs": [
    {
     "data": {
      "text/plain": [
       "{99: 107, 115: 122}"
      ]
     },
     "execution_count": 38,
     "metadata": {},
     "output_type": "execute_result"
    }
   ],
   "source": [
    "'''\n",
    "方法 translate 与 replace 一样替换字符串的特定部分,但不同的是它只能进行单字符替换。这个方法的优势在于能够同时替换多个字符,因此效率\n",
    "比 replace 高。\n",
    "这个方法的用途很多(如替换换行符或其他随平台而异的特殊字符),但这里只介绍一个比较简单(也有点傻)的示例。假设你要将一段英语文本转换为带有\n",
    "德国口音的版本,为此必须将字符c和s分别替换为k和z。\n",
    "然而,使用 translate 前必须创建一个转换表。这个转换表指出了不同Unicode码点之间的转换关系。要创建转换表,可对字符串类型 str 调用方法\n",
    "maketrans ,这个方法接受两个参数:两个长度相同的字符串,它们指定要将第一个字符串中的每个字符都替换为第二个字符串中的相应字符(Notice)。就这个\n",
    "简单的示例而言,代码类似于下面这样:\n",
    "Notice:也可传入下一章将介绍的字典,将一些字符映射到其他字符(如果要删除这些字符,则映射到 None )\n",
    "'''\n",
    "table = str.maketrans('cs', 'kz')\n",
    "table"
   ]
  },
  {
   "cell_type": "code",
   "execution_count": 39,
   "metadata": {},
   "outputs": [
    {
     "data": {
      "text/plain": [
       "'thiz iz an inkredible tezt'"
      ]
     },
     "execution_count": 39,
     "metadata": {},
     "output_type": "execute_result"
    }
   ],
   "source": [
    "# 创建转换表后,就可将其用作方法 translate 的参数\n",
    "'this is an incredible test'.translate(table) # 这是一次不可思议的考验"
   ]
  },
  {
   "cell_type": "code",
   "execution_count": 40,
   "metadata": {},
   "outputs": [
    {
     "data": {
      "text/plain": [
       "'thizizaninkredibletezt'"
      ]
     },
     "execution_count": 40,
     "metadata": {},
     "output_type": "execute_result"
    }
   ],
   "source": [
    "# 调用方法 maketrans 时,还可提供可选的第三个参数,指定要将哪些字母删除。例如,要模仿语速极快的德国口音,可将所有的空格都删除\n",
    "table = str.maketrans('cs', 'kz', ' ')\n",
    "'this is an incredible test'.translate(table)\n",
    "# 另请参见: replace 、 lower"
   ]
  },
  {
   "cell_type": "markdown",
   "metadata": {},
   "source": [
    "- 判断字符串是否满足特定的条件\n",
    "    - 很多字符串方法都以 is 打头,如 isspace 、 isdigit 和 isupper ,它们判断字符串是否具有特定的性质(如包含的字符全为空白、数字或大写)。如果字符串具备特定的性质,这些方法就返回True ,否则返回 False\n",
    "    - 附录B: isalnum 、 isalpha 、 isdecimal 、 isdigit 、 isidentifier 、 islower 、 isnumeric 、isprintable 、 isspace 、 istitle 、 isupper"
   ]
  },
  {
   "cell_type": "markdown",
   "metadata": {},
   "source": [
    "- 字符串格式设置:求模运算符( % )可用于将值合并为包含转换标志(如 % s )的字符串,这让你能够以众多方式设置值的格式,如左对齐或右对齐,指定字段宽度和精度,添加符号(正号或负号)以及在左边填充0等。\n",
    "- 字符串方法:字符串有很多方法,有些很有用(如 split 和 join ),有些很少用到(如 istitle和 capitalize )。\n",
    "- 本章介绍的新函数\n",
    "    string.capwords(s[, sep]) 使用 split 根据 sep 拆分 s ,将每项的首字母大写,再以空格为分隔符将它们合并起来\n",
    "    ascii(obj) 创建指定对象的ASCII表示"
   ]
  }
 ],
 "metadata": {
  "kernelspec": {
   "display_name": "Python 3",
   "language": "python",
   "name": "python3"
  },
  "language_info": {
   "codemirror_mode": {
    "name": "ipython",
    "version": 3
   },
   "file_extension": ".py",
   "mimetype": "text/x-python",
   "name": "python",
   "nbconvert_exporter": "python",
   "pygments_lexer": "ipython3",
   "version": "3.7.4"
  }
 },
 "nbformat": 4,
 "nbformat_minor": 2
}
