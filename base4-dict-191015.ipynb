{
 "cells": [
  {
   "cell_type": "markdown",
   "metadata": {},
   "source": [
    "# 字典:当索引行不通时\n",
    "- 可通过名称来访问其各个值的数据结构。这种数据结构称为映射(mapping)\n",
    "- 字典是Python中唯一的内置映射类型,其中的值不按顺序排列,而是存储在键下。键可能是数、字符串或元组\n",
    "## 字典的用途\n",
    "- 表示棋盘的状态,其中每个键都是由坐标组成的元组\n",
    "- 存储文件修改时间,其中的键为文件名\n",
    "- 数字电话/地址簿"
   ]
  },
  {
   "cell_type": "code",
   "execution_count": 2,
   "metadata": {},
   "outputs": [
    {
     "data": {
      "text/plain": [
       "'3158'"
      ]
     },
     "execution_count": 2,
     "metadata": {},
     "output_type": "execute_result"
    }
   ],
   "source": [
    "# 创建一个小型数据库,在其中存储这些人的电话号码\n",
    "names = ['Alice', 'Beth', 'Cecil', 'Dee-Dee', 'Earl']\n",
    "numbers = ['2341', '9102', '3158', '0142', '5551']\n",
    "numbers[names.index('Cecil')] # 这可行,但不太实用"
   ]
  },
  {
   "cell_type": "code",
   "execution_count": 3,
   "metadata": {},
   "outputs": [
    {
     "data": {
      "text/plain": [
       "'3258'"
      ]
     },
     "execution_count": 3,
     "metadata": {},
     "output_type": "execute_result"
    }
   ],
   "source": [
    "# 创建和使用字典:字典由键及其相应的值组成,这种键-值对称为项(item)\n",
    "\n",
    "# 示例中,键为名字,而值为电话号码。每个键与其值之间都用冒号( : )分隔,项之间用逗号分隔,而整个字典放在花括号内\n",
    "# 在字典(以及其他映射类型)中,键必须是独一无二的,而字典中的值无需如此\n",
    "phonebook = {'Alice': '2341', 'Beth': '9102', 'Cecil': '3258'}\n",
    "phonebook['Cecil']"
   ]
  },
  {
   "cell_type": "code",
   "execution_count": 4,
   "metadata": {},
   "outputs": [
    {
     "data": {
      "text/plain": [
       "{'name': 'Gumby', 'age': 42}"
      ]
     },
     "execution_count": 4,
     "metadata": {},
     "output_type": "execute_result"
    }
   ],
   "source": [
    "# 可使用函数 dict 从其他映射(如其他字典)或键-值对序列创建字典\n",
    "items = [('name', 'Gumby'), ('age', 42)]\n",
    "d = dict(items)\n",
    "d"
   ]
  },
  {
   "cell_type": "code",
   "execution_count": 7,
   "metadata": {},
   "outputs": [
    {
     "data": {
      "text/plain": [
       "{'name': 'Gumby', 'age': 42}"
      ]
     },
     "execution_count": 7,
     "metadata": {},
     "output_type": "execute_result"
    }
   ],
   "source": [
    "# 还可使用关键字实参来调用这个函数\n",
    "'''\n",
    "尽管这可能是函数 dict 最常见的用法,但也可使用一个映射实参来调用它,这将创建一个字典,其中包含指定映射中的所有项。像函数 list 、 tuple\n",
    "和 str 一样,如果调用这个函数时没有提供任何实参,将返回一个空字典。从映射创建字典时,如果该映射也是字典(毕竟字典是Python中唯一的内置映射\n",
    "类型),可不使用函数 dict ,而是使用字典方法 copy ,这将在本章后面介绍。\n",
    "'''\n",
    "d = dict(name='Gumby', age=42)\n",
    "d"
   ]
  },
  {
   "cell_type": "markdown",
   "metadata": {},
   "source": [
    "### 基本的字典操作\n",
    "- len(d) 返回字典 d 包含的项(键值对)数\n",
    "- d[k] 返回与键 k 相关联的值\n",
    "- d[k] = v 将值 v 关联到键 k\n",
    "- del d[k] 删除键为 k 的项\n",
    "- k in d 检查字典 d 是否包含键为 k 的项\n",
    "#### 字典和列表有多个相同之处,但也有一些重要的不同之处\n",
    "\n",
    "- 键的类型:字典中的键可以是整数,但并非必须是整数。字典中的键可以是任何不可变的类型,如浮点数(实数)、字符串或元组\n",
    "- 自动添加:即便是字典中原本没有的键,也可以给它赋值,这将在字典中创建一个新项。然而,如果不使用 append 或其他类似的方法,就不能给列表中没有的元素赋值\n",
    "- 成员资格:表达式 k in d (其中 d 是一个字典)查找的是键而不是值,而表达式 v in l (其中 l 是一个列表)查找的是值而不是索引。这看似不太一致,但你习惯后就会觉得相当自然。毕竟如果字典包含指定的键,检查相应的值就很容易\n",
    "- 相比于检查列表是否包含指定的值,检查字典是否包含指定的键的效率更高。数据结构越大,效率差距就越大"
   ]
  },
  {
   "cell_type": "code",
   "execution_count": 8,
   "metadata": {},
   "outputs": [
    {
     "ename": "IndexError",
     "evalue": "list assignment index out of range",
     "output_type": "error",
     "traceback": [
      "\u001b[0;31m---------------------------------------------------------------------------\u001b[0m",
      "\u001b[0;31mIndexError\u001b[0m                                Traceback (most recent call last)",
      "\u001b[0;32m<ipython-input-8-30ea83e8e8bf>\u001b[0m in \u001b[0;36m<module>\u001b[0;34m()\u001b[0m\n\u001b[1;32m      1\u001b[0m \u001b[0mx\u001b[0m \u001b[0;34m=\u001b[0m \u001b[0;34m[\u001b[0m\u001b[0;34m]\u001b[0m\u001b[0;34m\u001b[0m\u001b[0;34m\u001b[0m\u001b[0m\n\u001b[0;32m----> 2\u001b[0;31m \u001b[0mx\u001b[0m\u001b[0;34m[\u001b[0m\u001b[0;36m42\u001b[0m\u001b[0;34m]\u001b[0m \u001b[0;34m=\u001b[0m \u001b[0;34m'Foobar'\u001b[0m\u001b[0;34m\u001b[0m\u001b[0;34m\u001b[0m\u001b[0m\n\u001b[0m",
      "\u001b[0;31mIndexError\u001b[0m: list assignment index out of range"
     ]
    }
   ],
   "source": [
    "# 将字符串 'Foobar' 赋给一个空列表中索引为42的元素---这显然不可能\n",
    "x = []\n",
    "x[42] = 'Foobar'"
   ]
  },
  {
   "cell_type": "code",
   "execution_count": 9,
   "metadata": {},
   "outputs": [
    {
     "data": {
      "text/plain": [
       "{42: 'Foobar'}"
      ]
     },
     "execution_count": 9,
     "metadata": {},
     "output_type": "execute_result"
    }
   ],
   "source": [
    "x = {}\n",
    "x[42] = 'Foobar'\n",
    "x"
   ]
  },
  {
   "cell_type": "code",
   "execution_count": 10,
   "metadata": {},
   "outputs": [
    {
     "name": "stdout",
     "output_type": "stream",
     "text": [
      "Name: Beth\n",
      "Phone number (p) or address (a)? p\n",
      "Beth's phone number is 9102.\n"
     ]
    }
   ],
   "source": [
    "# 一个简单的数据库\n",
    "# 一个将人名用作键的字典。每个人都用一个字典表示,\n",
    "# 字典包含键'phone'和'addr',它们分别与电话号码和地址相关联\n",
    "people = {\n",
    "    'Alice': {\n",
    "    'phone': '2341',\n",
    "    'addr': 'Foo drive 23'\n",
    "    },\n",
    "    'Beth': {\n",
    "    'phone': '9102',\n",
    "    'addr': 'Bar street 42'\n",
    "    },\n",
    "    'Cecil': {\n",
    "    'phone': '3158',\n",
    "    'addr': 'Baz avenue 90'\n",
    "    }\n",
    "}\n",
    "# 电话号码和地址的描述性标签,供打印输出时使用\n",
    "labels = {\n",
    "'phone': 'phone number',\n",
    "'addr': 'address'\n",
    "}\n",
    "name = input('Name: ')\n",
    "# 要查找电话号码还是地址?\n",
    "request = input('Phone number (p) or address (a)? ')\n",
    "# 使用正确的键:\n",
    "if request == 'p': key = 'phone'\n",
    "if request == 'a': key = 'addr'\n",
    "# 仅当名字是字典包含的键时才打印信息:\n",
    "if name in people: print(\"{}'s {} is {}.\".format(name, labels[key], people[name][key]))"
   ]
  },
  {
   "cell_type": "markdown",
   "metadata": {},
   "source": [
    "### 将字符串格式设置功能用于字典\n",
    "\n",
    "- 可在字典中包含各种信息,这样只需在格式字符串中提取所需的信息即可。为此,必须使用 format_map 来指出你将通过一个映射来提供所需的信息"
   ]
  },
  {
   "cell_type": "code",
   "execution_count": 11,
   "metadata": {},
   "outputs": [
    {
     "data": {
      "text/plain": [
       "{'Alice': '2341', 'Beth': '9102', 'Cecil': '3258'}"
      ]
     },
     "execution_count": 11,
     "metadata": {},
     "output_type": "execute_result"
    }
   ],
   "source": [
    "phonebook"
   ]
  },
  {
   "cell_type": "code",
   "execution_count": 12,
   "metadata": {},
   "outputs": [
    {
     "data": {
      "text/plain": [
       "\"Cecil's phone number is 3258.\""
      ]
     },
     "execution_count": 12,
     "metadata": {},
     "output_type": "execute_result"
    }
   ],
   "source": [
    "\"Cecil's phone number is {Cecil}.\".format_map(phonebook)"
   ]
  },
  {
   "cell_type": "code",
   "execution_count": 13,
   "metadata": {},
   "outputs": [
    {
     "name": "stdout",
     "output_type": "stream",
     "text": [
      "<html>\n",
      "<head><title>My Home Page</title></head>\n",
      "<body>\n",
      "<h1>My Home Page</h1>\n",
      "<p>Welcome to my home page!</p>\n",
      "</body>\n"
     ]
    }
   ],
   "source": [
    "# 可指定任意数量的转换说明符,条件是所有的字段名都是包含在字典中的键。在模板系统中,这种字符串格式设置方式很有用\n",
    "template = '''<html>\n",
    "<head><title>{title}</title></head>\n",
    "<body>\n",
    "<h1>{title}</h1>\n",
    "<p>{text}</p>\n",
    "</body>'''\n",
    "data = {'title': 'My Home Page', 'text': 'Welcome to my home page!'}\n",
    "print(template.format_map(data))"
   ]
  },
  {
   "cell_type": "markdown",
   "metadata": {},
   "source": [
    "### 字典方法"
   ]
  },
  {
   "cell_type": "code",
   "execution_count": 15,
   "metadata": {},
   "outputs": [
    {
     "data": {
      "text/plain": [
       "{'name': 'Gumby', 'age': 42}"
      ]
     },
     "execution_count": 15,
     "metadata": {},
     "output_type": "execute_result"
    }
   ],
   "source": [
    "# 方法 clear 删除所有的字典项,这种操作是就地执行的(就像 list.sort 一样),因此什么都不返回(或者说返回 None )\n",
    "d = {}\n",
    "d['name'] = 'Gumby'\n",
    "d['age'] = 42\n",
    "d"
   ]
  },
  {
   "cell_type": "code",
   "execution_count": 16,
   "metadata": {},
   "outputs": [
    {
     "data": {
      "text/plain": [
       "{}"
      ]
     },
     "execution_count": 16,
     "metadata": {},
     "output_type": "execute_result"
    }
   ],
   "source": [
    "returned_value = d.clear()\n",
    "d"
   ]
  },
  {
   "cell_type": "code",
   "execution_count": 17,
   "metadata": {},
   "outputs": [
    {
     "name": "stdout",
     "output_type": "stream",
     "text": [
      "None\n"
     ]
    }
   ],
   "source": [
    "print(returned_value)"
   ]
  },
  {
   "cell_type": "code",
   "execution_count": 18,
   "metadata": {},
   "outputs": [
    {
     "data": {
      "text/plain": [
       "{'key': 'value'}"
      ]
     },
     "execution_count": 18,
     "metadata": {},
     "output_type": "execute_result"
    }
   ],
   "source": [
    "# 第一个场景\n",
    "x = {}\n",
    "y = x\n",
    "x['key'] = 'value'\n",
    "y"
   ]
  },
  {
   "cell_type": "code",
   "execution_count": 19,
   "metadata": {},
   "outputs": [
    {
     "data": {
      "text/plain": [
       "{'key': 'value'}"
      ]
     },
     "execution_count": 19,
     "metadata": {},
     "output_type": "execute_result"
    }
   ],
   "source": [
    "x = {} # 通过将一个空字典赋给 x 来“清空”它。这对 y 没有任何影响,它依然指向原来的字典\n",
    "y"
   ]
  },
  {
   "cell_type": "code",
   "execution_count": 20,
   "metadata": {},
   "outputs": [
    {
     "data": {
      "text/plain": [
       "{}"
      ]
     },
     "execution_count": 20,
     "metadata": {},
     "output_type": "execute_result"
    }
   ],
   "source": [
    "x"
   ]
  },
  {
   "cell_type": "code",
   "execution_count": 21,
   "metadata": {},
   "outputs": [
    {
     "data": {
      "text/plain": [
       "{'key': 'value'}"
      ]
     },
     "execution_count": 21,
     "metadata": {},
     "output_type": "execute_result"
    }
   ],
   "source": [
    "# 第二个场景\n",
    "x = {}\n",
    "y = x\n",
    "x['key'] = 'value'\n",
    "y"
   ]
  },
  {
   "cell_type": "code",
   "execution_count": 22,
   "metadata": {},
   "outputs": [
    {
     "data": {
      "text/plain": [
       "{}"
      ]
     },
     "execution_count": 22,
     "metadata": {},
     "output_type": "execute_result"
    }
   ],
   "source": [
    "x.clear() # 要删除原来字典的所有元素,必须使用 clear 。如果这样做, y 也将是空的\n",
    "y"
   ]
  },
  {
   "cell_type": "code",
   "execution_count": 23,
   "metadata": {},
   "outputs": [
    {
     "data": {
      "text/plain": [
       "{}"
      ]
     },
     "execution_count": 23,
     "metadata": {},
     "output_type": "execute_result"
    }
   ],
   "source": [
    "x"
   ]
  },
  {
   "cell_type": "code",
   "execution_count": 24,
   "metadata": {},
   "outputs": [
    {
     "data": {
      "text/plain": [
       "{'username': 'mlh', 'machines': ['foo', 'baz']}"
      ]
     },
     "execution_count": 24,
     "metadata": {},
     "output_type": "execute_result"
    }
   ],
   "source": [
    "# 方法 copy 返回一个新字典,其包含的键-值对与原来的字典相同(这个方法执行的是浅复制,因为值本身是原件,而非副本)\n",
    "x = {'username': 'admin', 'machines': ['foo', 'bar', 'baz']}\n",
    "y = x.copy()\n",
    "y['username'] = 'mlh' # 当替换副本中的值时,原件不受影响\n",
    "y['machines'].remove('bar') # 修改副本中的值(就地修改而不是替换),原件也将发生变化,因为原件指向的也是被修改的值\n",
    "y"
   ]
  },
  {
   "cell_type": "code",
   "execution_count": 25,
   "metadata": {},
   "outputs": [
    {
     "data": {
      "text/plain": [
       "{'username': 'admin', 'machines': ['foo', 'baz']}"
      ]
     },
     "execution_count": 25,
     "metadata": {},
     "output_type": "execute_result"
    }
   ],
   "source": [
    "x"
   ]
  },
  {
   "cell_type": "code",
   "execution_count": 26,
   "metadata": {},
   "outputs": [
    {
     "data": {
      "text/plain": [
       "{'names': ['Alfred', 'Bertrand', 'Clive']}"
      ]
     },
     "execution_count": 26,
     "metadata": {},
     "output_type": "execute_result"
    }
   ],
   "source": [
    "# 深复制,即同时复制值及其包含的所有值\n",
    "from copy import deepcopy\n",
    "\n",
    "d = {}\n",
    "d['names'] = ['Alfred', 'Bertrand']\n",
    "c = d.copy()\n",
    "dc = deepcopy(d)\n",
    "d['names'].append('Clive')\n",
    "c"
   ]
  },
  {
   "cell_type": "code",
   "execution_count": 27,
   "metadata": {},
   "outputs": [
    {
     "data": {
      "text/plain": [
       "{'names': ['Alfred', 'Bertrand']}"
      ]
     },
     "execution_count": 27,
     "metadata": {},
     "output_type": "execute_result"
    }
   ],
   "source": [
    "dc"
   ]
  },
  {
   "cell_type": "code",
   "execution_count": 28,
   "metadata": {},
   "outputs": [
    {
     "data": {
      "text/plain": [
       "{'name': None, 'age': None}"
      ]
     },
     "execution_count": 28,
     "metadata": {},
     "output_type": "execute_result"
    }
   ],
   "source": [
    "# 方法 fromkeys 创建一个新字典,其中包含指定的键,且每个键对应的值都是 None\n",
    "{}.fromkeys(['name', 'age'])\n",
    "# 首先创建了一个空字典,再对其调用方法 fromkeys 来创建另一个字典,这显得有点多余"
   ]
  },
  {
   "cell_type": "code",
   "execution_count": 29,
   "metadata": {},
   "outputs": [
    {
     "data": {
      "text/plain": [
       "{'name': None, 'age': None}"
      ]
     },
     "execution_count": 29,
     "metadata": {},
     "output_type": "execute_result"
    }
   ],
   "source": [
    "# 可以不这样做,而是直接对 dict (前面说过, dict 是所有字典所属的类型。类和类型将在第7章详细讨论)调用方法 fromkeys\n",
    "dict.fromkeys(['name', 'age'])"
   ]
  },
  {
   "cell_type": "code",
   "execution_count": 30,
   "metadata": {},
   "outputs": [
    {
     "data": {
      "text/plain": [
       "{'name': '(unknown)', 'age': '(unknown)'}"
      ]
     },
     "execution_count": 30,
     "metadata": {},
     "output_type": "execute_result"
    }
   ],
   "source": [
    "# 不想使用默认值 None ,可提供特定的值\n",
    "dict.fromkeys(['name', 'age'], '(unknown)')"
   ]
  },
  {
   "cell_type": "code",
   "execution_count": 31,
   "metadata": {},
   "outputs": [
    {
     "ename": "KeyError",
     "evalue": "'name'",
     "output_type": "error",
     "traceback": [
      "\u001b[0;31m---------------------------------------------------------------------------\u001b[0m",
      "\u001b[0;31mKeyError\u001b[0m                                  Traceback (most recent call last)",
      "\u001b[0;32m<ipython-input-31-c285b8248bda>\u001b[0m in \u001b[0;36m<module>\u001b[0;34m()\u001b[0m\n\u001b[1;32m      2\u001b[0m \u001b[0;31m# 通常,访问字典中没有的项,将引发错误\u001b[0m\u001b[0;34m\u001b[0m\u001b[0;34m\u001b[0m\u001b[0;34m\u001b[0m\u001b[0m\n\u001b[1;32m      3\u001b[0m \u001b[0md\u001b[0m \u001b[0;34m=\u001b[0m \u001b[0;34m{\u001b[0m\u001b[0;34m}\u001b[0m\u001b[0;34m\u001b[0m\u001b[0;34m\u001b[0m\u001b[0m\n\u001b[0;32m----> 4\u001b[0;31m \u001b[0mprint\u001b[0m\u001b[0;34m(\u001b[0m\u001b[0md\u001b[0m\u001b[0;34m[\u001b[0m\u001b[0;34m'name'\u001b[0m\u001b[0;34m]\u001b[0m\u001b[0;34m)\u001b[0m\u001b[0;34m\u001b[0m\u001b[0;34m\u001b[0m\u001b[0m\n\u001b[0m",
      "\u001b[0;31mKeyError\u001b[0m: 'name'"
     ]
    }
   ],
   "source": [
    "# 方法 get 为访问字典项提供了宽松的环境\n",
    "# 通常,访问字典中没有的项,将引发错误\n",
    "d = {}\n",
    "print(d['name'])"
   ]
  },
  {
   "cell_type": "code",
   "execution_count": 32,
   "metadata": {},
   "outputs": [
    {
     "name": "stdout",
     "output_type": "stream",
     "text": [
      "None\n"
     ]
    }
   ],
   "source": [
    "# 使用 get 不会这样\n",
    "print(d.get('name'))"
   ]
  },
  {
   "cell_type": "code",
   "execution_count": 33,
   "metadata": {},
   "outputs": [
    {
     "data": {
      "text/plain": [
       "'N/A'"
      ]
     },
     "execution_count": 33,
     "metadata": {},
     "output_type": "execute_result"
    }
   ],
   "source": [
    "# 指定“默认”值,这样将返回你指定的值而不是 None\n",
    "d.get('name', 'N/A')"
   ]
  },
  {
   "cell_type": "code",
   "execution_count": 34,
   "metadata": {},
   "outputs": [
    {
     "data": {
      "text/plain": [
       "'Eric'"
      ]
     },
     "execution_count": 34,
     "metadata": {},
     "output_type": "execute_result"
    }
   ],
   "source": [
    "# 字典包含指定的键, get 的作用将与普通字典查找相同\n",
    "d['name'] = 'Eric'\n",
    "d.get('name')"
   ]
  },
  {
   "cell_type": "code",
   "execution_count": 37,
   "metadata": {},
   "outputs": [
    {
     "name": "stdout",
     "output_type": "stream",
     "text": [
      "Name: Aaron\n",
      "Phone number (p) or address (a)? a\n",
      "Aaron's address is not available.\n"
     ]
    }
   ],
   "source": [
    "# 一个使用get()的简单数据库\n",
    "# 在这里插入代码清单4-1中的数据库(字典people)\n",
    "people = {\n",
    "    'Alice': {\n",
    "    'phone': '2341',\n",
    "    'addr': 'Foo drive 23'\n",
    "    },\n",
    "    'Beth': {\n",
    "    'phone': '9102',\n",
    "    'addr': 'Bar street 42'\n",
    "    },\n",
    "    'Cecil': {\n",
    "    'phone': '3158',\n",
    "    'addr': 'Baz avenue 90'\n",
    "    }\n",
    "}\n",
    "labels = {\n",
    "'phone': 'phone number',\n",
    "'addr': 'address'\n",
    "}\n",
    "name = input('Name: ')\n",
    "# 要查找电话号码还是地址?\n",
    "request = input('Phone number (p) or address (a)? ')\n",
    "# 使用正确的键:\n",
    "key = request # 如果request既不是'p'也不是'a'\n",
    "if request == 'p': key = 'phone'\n",
    "if request == 'a': key = 'addr'\n",
    "# 使用get提供默认值\n",
    "person = people.get(name, {})\n",
    "label = labels.get(key, key)\n",
    "result = person.get(key, 'not available')\n",
    "print(\"{}'s {} is {}.\".format(name, label, result))"
   ]
  },
  {
   "cell_type": "code",
   "execution_count": 38,
   "metadata": {},
   "outputs": [
    {
     "data": {
      "text/plain": [
       "dict_items([('title', 'Python Web Site'), ('url', 'http://www.python.org'), ('spam', 0)])"
      ]
     },
     "execution_count": 38,
     "metadata": {},
     "output_type": "execute_result"
    }
   ],
   "source": [
    "# 方法 items 返回一个包含所有字典项的列表,其中每个元素都为 (key, value) 的形式\n",
    "# 字典项在列表中的排列顺序不确定\n",
    "# 返回值属于一种名为字典视图的特殊类型。字典视图可用于迭代(迭代将在第5章详细介绍)\n",
    "d = {'title': 'Python Web Site', 'url': 'http://www.python.org', 'spam': 0}\n",
    "d.items()"
   ]
  },
  {
   "cell_type": "code",
   "execution_count": 39,
   "metadata": {},
   "outputs": [
    {
     "data": {
      "text/plain": [
       "3"
      ]
     },
     "execution_count": 39,
     "metadata": {},
     "output_type": "execute_result"
    }
   ],
   "source": [
    "# 还可确定其长度以及对其执行成员资格检查\n",
    "it = d.items()\n",
    "len(it)"
   ]
  },
  {
   "cell_type": "code",
   "execution_count": 40,
   "metadata": {},
   "outputs": [
    {
     "data": {
      "text/plain": [
       "True"
      ]
     },
     "execution_count": 40,
     "metadata": {},
     "output_type": "execute_result"
    }
   ],
   "source": [
    "('spam', 0) in it"
   ]
  },
  {
   "cell_type": "code",
   "execution_count": 41,
   "metadata": {},
   "outputs": [
    {
     "data": {
      "text/plain": [
       "False"
      ]
     },
     "execution_count": 41,
     "metadata": {},
     "output_type": "execute_result"
    }
   ],
   "source": [
    "# 视图的一个优点是不复制,它们始终是底层字典的反映,即便你修改了底层字典亦如此\n",
    "d['spam'] = 1\n",
    "('spam', 0) in it"
   ]
  },
  {
   "cell_type": "code",
   "execution_count": 42,
   "metadata": {},
   "outputs": [
    {
     "data": {
      "text/plain": [
       "True"
      ]
     },
     "execution_count": 42,
     "metadata": {},
     "output_type": "execute_result"
    }
   ],
   "source": [
    "d['spam'] = 0\n",
    "('spam', 0) in it"
   ]
  },
  {
   "cell_type": "code",
   "execution_count": 43,
   "metadata": {},
   "outputs": [
    {
     "data": {
      "text/plain": [
       "[('title', 'Python Web Site'), ('url', 'http://www.python.org'), ('spam', 0)]"
      ]
     },
     "execution_count": 43,
     "metadata": {},
     "output_type": "execute_result"
    }
   ],
   "source": [
    "# 将字典项复制到列表中,可自己动手做\n",
    "list(d.items())"
   ]
  },
  {
   "cell_type": "code",
   "execution_count": 44,
   "metadata": {},
   "outputs": [
    {
     "data": {
      "text/plain": [
       "dict_keys(['title', 'url', 'spam'])"
      ]
     },
     "execution_count": 44,
     "metadata": {},
     "output_type": "execute_result"
    }
   ],
   "source": [
    "# 方法 keys 返回一个字典视图,其中包含指定字典中的键\n",
    "d.keys()"
   ]
  },
  {
   "cell_type": "code",
   "execution_count": 45,
   "metadata": {},
   "outputs": [
    {
     "data": {
      "text/plain": [
       "{'y': 2}"
      ]
     },
     "execution_count": 45,
     "metadata": {},
     "output_type": "execute_result"
    }
   ],
   "source": [
    "# 方法 pop 可用于获取与指定键相关联的值,并将该键值对从字典中删除\n",
    "d = {'x': 1, 'y': 2}\n",
    "d.pop('x')\n",
    "d"
   ]
  },
  {
   "cell_type": "code",
   "execution_count": 46,
   "metadata": {},
   "outputs": [
    {
     "data": {
      "text/plain": [
       "('title', 'Python Web Site')"
      ]
     },
     "execution_count": 46,
     "metadata": {},
     "output_type": "execute_result"
    }
   ],
   "source": [
    "'''\n",
    "方法 popitem 类似于 list.pop ,但 list.pop 弹出列表中的最后一个元素,而 popitem 随机地弹方法 popitem 类似于 list.pop ,但 list.pop\n",
    "弹出列表中的最后一个元素,而 popitem随机地弹\n",
    "'''\n",
    "# 虽然 popitem 类似于列表方法 pop ,但字典没有与 append (它在列表末尾添加一个元素)对应的方法。这是因为字典是无序的,类似的方法毫无意义\n",
    "# 如 果 希 望 方 法 popitem 以 可 预 测 的 顺 序 弹 出 字 典 项 , 请 参 阅 模 块 collections 中 的OrderedDict 类\n",
    "\n",
    "d = {'url': 'http://www.python.org', 'spam': 0, 'title': 'Python Web Site'}\n",
    "d.popitem()"
   ]
  },
  {
   "cell_type": "code",
   "execution_count": 47,
   "metadata": {},
   "outputs": [
    {
     "data": {
      "text/plain": [
       "{'url': 'http://www.python.org', 'spam': 0}"
      ]
     },
     "execution_count": 47,
     "metadata": {},
     "output_type": "execute_result"
    }
   ],
   "source": [
    "d"
   ]
  },
  {
   "cell_type": "code",
   "execution_count": 48,
   "metadata": {},
   "outputs": [
    {
     "data": {
      "text/plain": [
       "'N/A'"
      ]
     },
     "execution_count": 48,
     "metadata": {},
     "output_type": "execute_result"
    }
   ],
   "source": [
    "# 方法 setdefault 有点像 get ,因为它也获取与指定键相关联的值,但除此之外, setdefault还在字典不包含指定的键时,在字典中添加指定的键-值对\n",
    "d = {}\n",
    "d.setdefault('name', 'N/A')"
   ]
  },
  {
   "cell_type": "code",
   "execution_count": 49,
   "metadata": {},
   "outputs": [
    {
     "data": {
      "text/plain": [
       "{'name': 'N/A'}"
      ]
     },
     "execution_count": 49,
     "metadata": {},
     "output_type": "execute_result"
    }
   ],
   "source": [
    "d"
   ]
  },
  {
   "cell_type": "code",
   "execution_count": 50,
   "metadata": {},
   "outputs": [
    {
     "data": {
      "text/plain": [
       "'Gumby'"
      ]
     },
     "execution_count": 50,
     "metadata": {},
     "output_type": "execute_result"
    }
   ],
   "source": [
    "d['name'] = 'Gumby'\n",
    "d.setdefault('name', 'N/A')"
   ]
  },
  {
   "cell_type": "code",
   "execution_count": 51,
   "metadata": {},
   "outputs": [
    {
     "data": {
      "text/plain": [
       "{'name': 'Gumby'}"
      ]
     },
     "execution_count": 51,
     "metadata": {},
     "output_type": "execute_result"
    }
   ],
   "source": [
    "d"
   ]
  },
  {
   "cell_type": "code",
   "execution_count": 53,
   "metadata": {},
   "outputs": [
    {
     "name": "stdout",
     "output_type": "stream",
     "text": [
      "None\n"
     ]
    }
   ],
   "source": [
    "'''\n",
    "指定的键不存在时, setdefault 返回指定的值并相应地更新字典。如果指定的键存在,就返回其值,并保持字典不变。\n",
    "与 get 一样,值是可选的;如果没有指定,默认为 None\n",
    "'''\n",
    "# 如果希望有用于整个字典的全局默认值,请参阅模块 collections 中的 defaultdict 类\n",
    "d = {}\n",
    "print(d.setdefault('name'))"
   ]
  },
  {
   "cell_type": "code",
   "execution_count": 54,
   "metadata": {},
   "outputs": [
    {
     "data": {
      "text/plain": [
       "{'name': None}"
      ]
     },
     "execution_count": 54,
     "metadata": {},
     "output_type": "execute_result"
    }
   ],
   "source": [
    "d"
   ]
  },
  {
   "cell_type": "code",
   "execution_count": 55,
   "metadata": {},
   "outputs": [
    {
     "data": {
      "text/plain": [
       "{'title': 'Python Language Website',\n",
       " 'url': 'http://www.python.org',\n",
       " 'changed': 'Mar 14 22:09:15 MET 2016'}"
      ]
     },
     "execution_count": 55,
     "metadata": {},
     "output_type": "execute_result"
    }
   ],
   "source": [
    "# 方法 update 使用一个字典中的项来更新另一个字典\n",
    "d = {\n",
    "    'title': 'Python Web Site',\n",
    "    'url': 'http://www.python.org',\n",
    "    'changed': 'Mar 14 22:09:15 MET 2016'\n",
    "}\n",
    "x = {'title': 'Python Language Website'}\n",
    "d.update(x)\n",
    "d"
   ]
  },
  {
   "cell_type": "markdown",
   "metadata": {},
   "source": [
    "- 对于通过参数提供的字典,将其项添加到当前字典中。如果当前字典包含键相同的项,就替换它。\n",
    "- 可像调用本章前面讨论的函数 dict (类型构造函数)那样调用方法 update 。这意味着调用update 时,可向它提供一个映射、一个由键-值对组成的序列(或其他可迭代对象)或关键字参数。"
   ]
  },
  {
   "cell_type": "code",
   "execution_count": 56,
   "metadata": {},
   "outputs": [
    {
     "data": {
      "text/plain": [
       "dict_values([1, 2, 3, 1])"
      ]
     },
     "execution_count": 56,
     "metadata": {},
     "output_type": "execute_result"
    }
   ],
   "source": [
    "# 方法 values 返回一个由字典中的值组成的字典视图。不同于方法 keys ,方法 values 返回的视图可能包含重复的值\n",
    "d = {}\n",
    "d[1] = 1\n",
    "d[2] = 2\n",
    "d[3] = 3\n",
    "d[4] = 1\n",
    "d.values()"
   ]
  },
  {
   "cell_type": "markdown",
   "metadata": {},
   "source": [
    "- 映射:映射让你能够使用任何不可变的对象(最常用的是字符串和元组)来标识其元素。Python只有一种内置的映射类型,那就是字典。\n",
    "- 将字符串格式设置功能用于字典:要对字典执行字符串格式设置操作,不能使用 format和命名参数,而必须使用 format_map 。\n",
    "- 字典方法:字典有很多方法,这些方法的调用方式与列表和字符串的方法相同。\n",
    "===================================================================================================\n",
    "dict(seq) 从键-值对、映射或关键字参数创建字典"
   ]
  }
 ],
 "metadata": {
  "kernelspec": {
   "display_name": "Python 3",
   "language": "python",
   "name": "python3"
  },
  "language_info": {
   "codemirror_mode": {
    "name": "ipython",
    "version": 3
   },
   "file_extension": ".py",
   "mimetype": "text/x-python",
   "name": "python",
   "nbconvert_exporter": "python",
   "pygments_lexer": "ipython3",
   "version": "3.7.4"
  }
 },
 "nbformat": 4,
 "nbformat_minor": 2
}
