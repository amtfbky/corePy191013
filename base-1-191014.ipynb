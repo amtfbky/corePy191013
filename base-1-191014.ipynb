{
 "cells": [
  {
   "cell_type": "markdown",
   "metadata": {},
   "source": [
    "# 基础1\n",
    "\n",
    "## 数和表达式\n",
    "\n",
    "- 所有常见算术运算符的工作原理都与你预期的一致。除法运算的结果为小数,即浮点数(float或floating-point number)。"
   ]
  },
  {
   "cell_type": "code",
   "execution_count": 2,
   "metadata": {},
   "outputs": [
    {
     "data": {
      "text/plain": [
       "1.0"
      ]
     },
     "execution_count": 2,
     "metadata": {},
     "output_type": "execute_result"
    }
   ],
   "source": [
    "1 / 2\n",
    "1 / 1"
   ]
  },
  {
   "cell_type": "markdown",
   "metadata": {},
   "source": [
    "- 如果你想丢弃小数部分,即执行整除运算,可使用双斜杠。"
   ]
  },
  {
   "cell_type": "code",
   "execution_count": 3,
   "metadata": {},
   "outputs": [
    {
     "data": {
      "text/plain": [
       "0"
      ]
     },
     "execution_count": 3,
     "metadata": {},
     "output_type": "execute_result"
    }
   ],
   "source": [
    "1 // 2"
   ]
  },
  {
   "cell_type": "code",
   "execution_count": 4,
   "metadata": {},
   "outputs": [
    {
     "data": {
      "text/plain": [
       "1"
      ]
     },
     "execution_count": 4,
     "metadata": {},
     "output_type": "execute_result"
    }
   ],
   "source": [
    "1 // 1"
   ]
  },
  {
   "cell_type": "code",
   "execution_count": 5,
   "metadata": {},
   "outputs": [
    {
     "data": {
      "text/plain": [
       "2.0"
      ]
     },
     "execution_count": 5,
     "metadata": {},
     "output_type": "execute_result"
    }
   ],
   "source": [
    "5.0 // 2.4"
   ]
  },
  {
   "cell_type": "markdown",
   "metadata": {},
   "source": [
    "- 求余(求模)运算符。 x % y 的结果为 x 除以 y 的余数。换而言之,结果为执行整除时余下的部分,即 x % y 等价于 x - ((x // y) * y) 。"
   ]
  },
  {
   "cell_type": "code",
   "execution_count": 9,
   "metadata": {},
   "outputs": [
    {
     "data": {
      "text/plain": [
       "3"
      ]
     },
     "execution_count": 9,
     "metadata": {},
     "output_type": "execute_result"
    }
   ],
   "source": [
    "10 // 3"
   ]
  },
  {
   "cell_type": "code",
   "execution_count": 10,
   "metadata": {},
   "outputs": [
    {
     "data": {
      "text/plain": [
       "1"
      ]
     },
     "execution_count": 10,
     "metadata": {},
     "output_type": "execute_result"
    }
   ],
   "source": [
    "10 % 3"
   ]
  },
  {
   "cell_type": "code",
   "execution_count": 11,
   "metadata": {},
   "outputs": [
    {
     "data": {
      "text/plain": [
       "3"
      ]
     },
     "execution_count": 11,
     "metadata": {},
     "output_type": "execute_result"
    }
   ],
   "source": [
    "9 // 3"
   ]
  },
  {
   "cell_type": "code",
   "execution_count": 12,
   "metadata": {},
   "outputs": [
    {
     "data": {
      "text/plain": [
       "0"
      ]
     },
     "execution_count": 12,
     "metadata": {},
     "output_type": "execute_result"
    }
   ],
   "source": [
    "9 % 3"
   ]
  },
  {
   "cell_type": "code",
   "execution_count": 13,
   "metadata": {},
   "outputs": [
    {
     "data": {
      "text/plain": [
       "0.25"
      ]
     },
     "execution_count": 13,
     "metadata": {},
     "output_type": "execute_result"
    }
   ],
   "source": [
    "2.75 % 0.5"
   ]
  },
  {
   "cell_type": "markdown",
   "metadata": {},
   "source": [
    "- 在需要执行“每10分钟检查一次”之类的操作时,这种运算可能很有用:只需检查 minute % 10 是否为 0。这种运算符甚至可用于负数,但可能不那么好理解。"
   ]
  },
  {
   "cell_type": "code",
   "execution_count": 14,
   "metadata": {},
   "outputs": [
    {
     "data": {
      "text/plain": [
       "-2"
      ]
     },
     "execution_count": 14,
     "metadata": {},
     "output_type": "execute_result"
    }
   ],
   "source": [
    "10 % -3"
   ]
  },
  {
   "cell_type": "code",
   "execution_count": 15,
   "metadata": {},
   "outputs": [
    {
     "data": {
      "text/plain": [
       "2"
      ]
     },
     "execution_count": 15,
     "metadata": {},
     "output_type": "execute_result"
    }
   ],
   "source": [
    "-10 % 3"
   ]
  },
  {
   "cell_type": "markdown",
   "metadata": {},
   "source": [
    "- 你也许不能通过这些示例一眼看出求余运算的工作原理,但通过研究与之配套的整除运算可帮助理解。"
   ]
  },
  {
   "cell_type": "code",
   "execution_count": 16,
   "metadata": {},
   "outputs": [
    {
     "data": {
      "text/plain": [
       "-4"
      ]
     },
     "execution_count": 16,
     "metadata": {},
     "output_type": "execute_result"
    }
   ],
   "source": [
    "10 // -3"
   ]
  },
  {
   "cell_type": "code",
   "execution_count": 17,
   "metadata": {},
   "outputs": [
    {
     "data": {
      "text/plain": [
       "-4"
      ]
     },
     "execution_count": 17,
     "metadata": {},
     "output_type": "execute_result"
    }
   ],
   "source": [
    "-10 // 3"
   ]
  },
  {
   "cell_type": "code",
   "execution_count": 18,
   "metadata": {},
   "outputs": [
    {
     "data": {
      "text/plain": [
       "3"
      ]
     },
     "execution_count": 18,
     "metadata": {},
     "output_type": "execute_result"
    }
   ],
   "source": [
    "-10 // -3"
   ]
  },
  {
   "cell_type": "markdown",
   "metadata": {},
   "source": [
    "- 基于除法运算的工作原理,很容易理解最终的余数是多少。对于整除运算,需要明白的一个重点是它向下圆整结果。因此在结果为负数的情况下,圆整后将离0更远。这意味着对于 -10 // 3 ,将向下圆整到 -4 ,而不是向上圆整到 -3 。\n",
    "- 这里要介绍的最后一个运算符是乘方(求幂)运算符。"
   ]
  },
  {
   "cell_type": "code",
   "execution_count": 20,
   "metadata": {},
   "outputs": [
    {
     "data": {
      "text/plain": [
       "-9"
      ]
     },
     "execution_count": 20,
     "metadata": {},
     "output_type": "execute_result"
    }
   ],
   "source": [
    "# 乘方运算符的优先级比求负(单目减)高,因此 -3**2 等价于 -(3**2)\n",
    "-3 ** 2"
   ]
  },
  {
   "cell_type": "code",
   "execution_count": 21,
   "metadata": {},
   "outputs": [
    {
     "data": {
      "text/plain": [
       "9"
      ]
     },
     "execution_count": 21,
     "metadata": {},
     "output_type": "execute_result"
    }
   ],
   "source": [
    "(-3) ** 2"
   ]
  },
  {
   "cell_type": "markdown",
   "metadata": {},
   "source": [
    "## 变量\n",
    "- 变量是表示(或指向)特定值的名称。\n",
    "    - 这称为赋值(assignment),我们将值 3 赋给了变量 x 。换而言之,就是将变量 x 与值(或对象)3 关联起来。给变量赋值后,就可在表达式中使用它。\n",
    "    - 使用Python变量前必须给它赋值,因为Python变量没有默认值。\n",
    "    - 在Python中,名称(标识符)只能由字母、数字和下划线(_)构成,且不能以数字打头。\n",
    "    - 值并非存储在变量中,而是存储在变量指向的计算机内存中。多个变量可指向同一个值。"
   ]
  },
  {
   "cell_type": "code",
   "execution_count": 22,
   "metadata": {},
   "outputs": [],
   "source": [
    "x = 3"
   ]
  },
  {
   "cell_type": "code",
   "execution_count": 24,
   "metadata": {},
   "outputs": [
    {
     "data": {
      "text/plain": [
       "15"
      ]
     },
     "execution_count": 24,
     "metadata": {},
     "output_type": "execute_result"
    }
   ],
   "source": [
    "x * 5"
   ]
  },
  {
   "cell_type": "markdown",
   "metadata": {},
   "source": [
    "- 获取用户输入\n",
    "    - 编写的程序可能供他人使用,无法预测用户会向程序提供什么样的值。我们来看看很有用的函数 input。"
   ]
  },
  {
   "cell_type": "code",
   "execution_count": 25,
   "metadata": {},
   "outputs": [
    {
     "name": "stdout",
     "output_type": "stream",
     "text": [
      "Please input your age: 29\n"
     ]
    },
    {
     "data": {
      "text/plain": [
       "'29'"
      ]
     },
     "execution_count": 25,
     "metadata": {},
     "output_type": "execute_result"
    }
   ],
   "source": [
    "input(\"Please input your age: \") # 用户输入的age被input(以文本或字符串的方式)返回,并在最后一行被自动打印出来。"
   ]
  },
  {
   "cell_type": "code",
   "execution_count": 26,
   "metadata": {},
   "outputs": [
    {
     "name": "stdout",
     "output_type": "stream",
     "text": [
      "a= 2\n",
      "b= 3\n",
      "6\n"
     ]
    }
   ],
   "source": [
    "a = input(\"a= \")\n",
    "b = input(\"b= \")\n",
    "print(int(a) * int(b))"
   ]
  },
  {
   "cell_type": "code",
   "execution_count": 27,
   "metadata": {},
   "outputs": [
    {
     "name": "stdout",
     "output_type": "stream",
     "text": [
      "one equals one\n"
     ]
    }
   ],
   "source": [
    "# 提前讲一下if\n",
    "if 1 == 2:print('one equals two')\n",
    "if 1 == 1:print('one equals one')"
   ]
  },
  {
   "cell_type": "code",
   "execution_count": 29,
   "metadata": {},
   "outputs": [
    {
     "ename": "TypeError",
     "evalue": "unsupported operand type(s) for %: 'module' and 'int'",
     "output_type": "error",
     "traceback": [
      "\u001b[0;31m---------------------------------------------------------------------------\u001b[0m",
      "\u001b[0;31mTypeError\u001b[0m                                 Traceback (most recent call last)",
      "\u001b[0;32m<ipython-input-29-309186eadc5f>\u001b[0m in \u001b[0;36m<module>\u001b[0;34m()\u001b[0m\n\u001b[1;32m      1\u001b[0m \u001b[0;31m# 整点报时\u001b[0m\u001b[0;34m\u001b[0m\u001b[0;34m\u001b[0m\u001b[0;34m\u001b[0m\u001b[0m\n\u001b[1;32m      2\u001b[0m \u001b[0;32mimport\u001b[0m \u001b[0mtime\u001b[0m\u001b[0;34m\u001b[0m\u001b[0;34m\u001b[0m\u001b[0m\n\u001b[0;32m----> 3\u001b[0;31m \u001b[0;32mif\u001b[0m \u001b[0mtime\u001b[0m \u001b[0;34m%\u001b[0m \u001b[0;36m60\u001b[0m \u001b[0;34m==\u001b[0m \u001b[0;36m0\u001b[0m\u001b[0;34m:\u001b[0m\u001b[0mprint\u001b[0m\u001b[0;34m(\u001b[0m\u001b[0;34m\"On the hour!\"\u001b[0m\u001b[0;34m)\u001b[0m\u001b[0;34m\u001b[0m\u001b[0;34m\u001b[0m\u001b[0m\n\u001b[0m",
      "\u001b[0;31mTypeError\u001b[0m: unsupported operand type(s) for %: 'module' and 'int'"
     ]
    }
   ],
   "source": [
    "# 整点报时\n",
    "import time\n",
    "if time % 60 == 0:print(\"On the hour!\")"
   ]
  },
  {
   "cell_type": "markdown",
   "metadata": {},
   "source": [
    "## 函数\n",
    "### 内置函数\n",
    "- 函数犹如小型程序,可用来执行特定的操作\n",
    "- 鉴于函数调用返回一个值,因此它们也是表达式\n",
    "- 可结合使用函数调用和运算符来编写更复杂的表达式\n",
    "- 有多个内置函数可用于编写数值表达式"
   ]
  },
  {
   "cell_type": "code",
   "execution_count": 30,
   "metadata": {},
   "outputs": [
    {
     "data": {
      "text/plain": [
       "8"
      ]
     },
     "execution_count": 30,
     "metadata": {},
     "output_type": "execute_result"
    }
   ],
   "source": [
    "pow(2,3) # 调用pow函数，2和3是实参"
   ]
  },
  {
   "cell_type": "code",
   "execution_count": 32,
   "metadata": {},
   "outputs": [
    {
     "data": {
      "text/plain": [
       "33.0"
      ]
     },
     "execution_count": 32,
     "metadata": {},
     "output_type": "execute_result"
    }
   ],
   "source": [
    "# 有多个内置函数可用于编写数值表达式\n",
    "1 + pow(2,3 * 2) / 2 # 1+8*2/2=1+64/2"
   ]
  },
  {
   "cell_type": "code",
   "execution_count": 33,
   "metadata": {},
   "outputs": [
    {
     "data": {
      "text/plain": [
       "3"
      ]
     },
     "execution_count": 33,
     "metadata": {},
     "output_type": "execute_result"
    }
   ],
   "source": [
    "# 有多个内置函数可用于编写数值表达式\n",
    "abs(-3)"
   ]
  },
  {
   "cell_type": "code",
   "execution_count": 34,
   "metadata": {},
   "outputs": [
    {
     "data": {
      "text/plain": [
       "0"
      ]
     },
     "execution_count": 34,
     "metadata": {},
     "output_type": "execute_result"
    }
   ],
   "source": [
    "2 // 3 # 整数总是向下圆整\n",
    "# 某人的年龄为32.9,并想将这个值向下圆整为32,因为他还没有满33岁"
   ]
  },
  {
   "cell_type": "code",
   "execution_count": 36,
   "metadata": {},
   "outputs": [
    {
     "data": {
      "text/plain": [
       "1"
      ]
     },
     "execution_count": 36,
     "metadata": {},
     "output_type": "execute_result"
    }
   ],
   "source": [
    "round(2/3) # round 将浮点数圆整为与之最接近的整数"
   ]
  },
  {
   "cell_type": "markdown",
   "metadata": {},
   "source": [
    "## 模块\n",
    "- 可将模块视为扩展,通过将其导入可以扩展Python功能"
   ]
  },
  {
   "cell_type": "code",
   "execution_count": 37,
   "metadata": {},
   "outputs": [
    {
     "data": {
      "text/plain": [
       "32"
      ]
     },
     "execution_count": 37,
     "metadata": {},
     "output_type": "execute_result"
    }
   ],
   "source": [
    "import math\n",
    "math.floor(32.9)"
   ]
  },
  {
   "cell_type": "code",
   "execution_count": 38,
   "metadata": {},
   "outputs": [
    {
     "data": {
      "text/plain": [
       "32"
      ]
     },
     "execution_count": 38,
     "metadata": {},
     "output_type": "execute_result"
    }
   ],
   "source": [
    "int(32.9)"
   ]
  },
  {
   "cell_type": "markdown",
   "metadata": {},
   "source": [
    "- 工作原理:我们使用 import 导入模块,再以 module.function 的方式使用模块中的函数\n",
    "- 还有一些类似的函数,可用于转换类型,如 str 和 float 。实际上,它们并不是函数,而是类"
   ]
  },
  {
   "cell_type": "code",
   "execution_count": 40,
   "metadata": {},
   "outputs": [
    {
     "data": {
      "text/plain": [
       "33"
      ]
     },
     "execution_count": 40,
     "metadata": {},
     "output_type": "execute_result"
    }
   ],
   "source": [
    "math.ceil(32.3) # ceil 与 floor 相反,返回大于或等于给定数\n",
    "的最小整数"
   ]
  },
  {
   "cell_type": "code",
   "execution_count": 41,
   "metadata": {},
   "outputs": [
    {
     "data": {
      "text/plain": [
       "32"
      ]
     },
     "execution_count": 41,
     "metadata": {},
     "output_type": "execute_result"
    }
   ],
   "source": [
    "math.ceil(32)"
   ]
  },
  {
   "cell_type": "code",
   "execution_count": 43,
   "metadata": {},
   "outputs": [
    {
     "data": {
      "text/plain": [
       "5.0"
      ]
     },
     "execution_count": 43,
     "metadata": {},
     "output_type": "execute_result"
    }
   ],
   "source": [
    "# 不想每次调用函数时都指定模块名\n",
    "from math import sqrt\n",
    "sqrt(25)"
   ]
  },
  {
   "cell_type": "code",
   "execution_count": 45,
   "metadata": {},
   "outputs": [
    {
     "data": {
      "text/plain": [
       "2.0"
      ]
     },
     "execution_count": 45,
     "metadata": {},
     "output_type": "execute_result"
    }
   ],
   "source": [
    "import math\n",
    "foo = math.sqrt # 可使用变量来引用函数(以及其他大部分Python元素)\n",
    "foo(4)"
   ]
  },
  {
   "cell_type": "markdown",
   "metadata": {},
   "source": [
    "## cmath 和复数"
   ]
  },
  {
   "cell_type": "code",
   "execution_count": 46,
   "metadata": {},
   "outputs": [
    {
     "ename": "ValueError",
     "evalue": "math domain error",
     "output_type": "error",
     "traceback": [
      "\u001b[0;31m---------------------------------------------------------------------------\u001b[0m",
      "\u001b[0;31mValueError\u001b[0m                                Traceback (most recent call last)",
      "\u001b[0;32m<ipython-input-46-8cb0ea041843>\u001b[0m in \u001b[0;36m<module>\u001b[0;34m()\u001b[0m\n\u001b[1;32m      1\u001b[0m \u001b[0;31m# 函数 sqrt 用于计算平方根。下面来看看向它提供一个负数的情况\u001b[0m\u001b[0;34m\u001b[0m\u001b[0;34m\u001b[0m\u001b[0;34m\u001b[0m\u001b[0m\n\u001b[1;32m      2\u001b[0m \u001b[0;32mfrom\u001b[0m \u001b[0mmath\u001b[0m \u001b[0;32mimport\u001b[0m \u001b[0msqrt\u001b[0m\u001b[0;34m\u001b[0m\u001b[0;34m\u001b[0m\u001b[0m\n\u001b[0;32m----> 3\u001b[0;31m \u001b[0msqrt\u001b[0m\u001b[0;34m(\u001b[0m\u001b[0;34m-\u001b[0m\u001b[0;36m1\u001b[0m\u001b[0;34m)\u001b[0m\u001b[0;34m\u001b[0m\u001b[0;34m\u001b[0m\u001b[0m\n\u001b[0m",
      "\u001b[0;31mValueError\u001b[0m: math domain error"
     ]
    }
   ],
   "source": [
    "# 函数 sqrt 用于计算平方根。下面来看看向它提供一个负数的情况\n",
    "from math import sqrt\n",
    "sqrt(-1) # 在有些平台上,结果是nan，nan具有特殊含义,指的是“非数值”(not a number)"
   ]
  },
  {
   "cell_type": "code",
   "execution_count": 47,
   "metadata": {},
   "outputs": [
    {
     "data": {
      "text/plain": [
       "1j"
      ]
     },
     "execution_count": 47,
     "metadata": {},
     "output_type": "execute_result"
    }
   ],
   "source": [
    "'''\n",
    "如果我们坚持将值域限定为实数,并使用其近似的浮点数实现,就无法计算负数的平方根。\n",
    "负数的平方根为虚数,而由实部和虚部组成的数为复数。Python标准库提供了一个专门用于处理\n",
    "复数的模块。\n",
    "'''\n",
    "import cmath\n",
    "cmath.sqrt(-1)"
   ]
  },
  {
   "cell_type": "code",
   "execution_count": 48,
   "metadata": {},
   "outputs": [
    {
     "data": {
      "text/plain": [
       "(-3+31j)"
      ]
     },
     "execution_count": 48,
     "metadata": {},
     "output_type": "execute_result"
    }
   ],
   "source": [
    "'''\n",
    "1j 是个虚数,虚数都以 j (或 J )结尾。复数算术运算都基于如下定义: -1 的平方根为 1j 。这\n",
    "里不深入探讨这个主题,只举一个例子来结束对复数的讨论:\n",
    "'''\n",
    "(1 + 3j) * (9 + 4j) # 从这个示例可知,Python本身提供了对复数的支持"
   ]
  },
  {
   "cell_type": "markdown",
   "metadata": {},
   "source": [
    "## 回到未来\n",
    "- 据说Python之父Guido van Rossum有一台时光机,因为这样的情况出现了多次:大家要求Python提供某项功能时,却发现这项功能早已实现。当然,并非什么人都能进入这台时光机,不过Guido很体贴,通过神奇模块 __future__ 让Python具备了时光机的部分功能。对于Python当前不支持,但未来将成为标准组成部分的功能,你可从这个模块进行导入。"
   ]
  },
  {
   "cell_type": "code",
   "execution_count": 50,
   "metadata": {},
   "outputs": [
    {
     "name": "stdout",
     "output_type": "stream",
     "text": [
      "What your name?Peter\n",
      "Hello, Peter !\n",
      "Hello,Peter!\n"
     ]
    }
   ],
   "source": [
    "name = input(\"What your name?\")\n",
    "print(\"Hello,\",name,'!')\n",
    "print(\"Hello,\" + name + '!')"
   ]
  },
  {
   "cell_type": "markdown",
   "metadata": {},
   "source": [
    "## 强大的海龟绘图法\n",
    "- 海龟绘图法的理念源自形如海龟的机器人。这种机器人可前进和后退,还可向左和向右旋转一定的角度\n",
    "- 这种机器人还携带一只铅笔,可通过抬起或放下来控制铅笔在什么时候接触到脚下的纸张"
   ]
  },
  {
   "cell_type": "code",
   "execution_count": 1,
   "metadata": {},
   "outputs": [],
   "source": [
    "from turtle import *\n",
    "\n",
    "forward(100)"
   ]
  },
  {
   "cell_type": "code",
   "execution_count": 2,
   "metadata": {},
   "outputs": [],
   "source": [
    "left(120)"
   ]
  },
  {
   "cell_type": "code",
   "execution_count": 3,
   "metadata": {},
   "outputs": [],
   "source": [
    "forward(100)"
   ]
  },
  {
   "cell_type": "code",
   "execution_count": 4,
   "metadata": {},
   "outputs": [],
   "source": [
    "left(120)"
   ]
  },
  {
   "cell_type": "code",
   "execution_count": 5,
   "metadata": {},
   "outputs": [],
   "source": [
    "forward(100) # 正三角形\n",
    "'''\n",
    "要 将 铅 笔 抬 起 , 可 使 用 penup() ; 要 将 铅 笔 重 新 放 下 , 可 使 用pendown() 。\n",
    "要了解如何绘图,可尝试在网上搜索海龟绘图法(turtle graphic)。\n",
    "学习更多的概念后,你可能想用海龟绘图法替换平淡的 print 语句。在尝试使用海龟绘图法的\n",
    "过程中,你很快就会发现需要使用后面将介绍的一些基本编程结构。例如,如何在前面的示\n",
    "例中避免反复调用命令 forward 和 left ,如何绘制八角形(而不是三角形)以及如何以尽可能\n",
    "少的代码绘制多个边数各不相同的正多边形。\n",
    "'''"
   ]
  },
  {
   "cell_type": "markdown",
   "metadata": {},
   "source": [
    "## 字符串\n",
    "- 字符串用途众多,但主要用途是表示一段文本\n",
    "- 拼接字符串\n",
    "- 字符串表示 str 和 repr"
   ]
  },
  {
   "cell_type": "code",
   "execution_count": 6,
   "metadata": {},
   "outputs": [
    {
     "data": {
      "text/plain": [
       "'Let\\'s say \"Hello, world!\"'"
      ]
     },
     "execution_count": 6,
     "metadata": {},
     "output_type": "execute_result"
    }
   ],
   "source": [
    "\"Let's say \" '\"Hello, world!\"' # 拼接字符串"
   ]
  },
  {
   "cell_type": "code",
   "execution_count": 7,
   "metadata": {},
   "outputs": [
    {
     "data": {
      "text/plain": [
       "'Hello, world!'"
      ]
     },
     "execution_count": 7,
     "metadata": {},
     "output_type": "execute_result"
    }
   ],
   "source": [
    "a = \"Hello, \"\n",
    "b = \"world!\"\n",
    "a + b"
   ]
  },
  {
   "cell_type": "code",
   "execution_count": 8,
   "metadata": {},
   "outputs": [
    {
     "data": {
      "text/plain": [
       "'Hello,\\nworld!'"
      ]
     },
     "execution_count": 8,
     "metadata": {},
     "output_type": "execute_result"
    }
   ],
   "source": [
    "# 字符串表示 str 和 repr\n",
    "\"Hello,\\nworld!\""
   ]
  },
  {
   "cell_type": "code",
   "execution_count": 9,
   "metadata": {},
   "outputs": [
    {
     "name": "stdout",
     "output_type": "stream",
     "text": [
      "Hello,\n",
      "world!\n"
     ]
    }
   ],
   "source": [
    "print(\"Hello,\\nworld!\") # 加上\\n区别就很大"
   ]
  },
  {
   "cell_type": "code",
   "execution_count": 10,
   "metadata": {},
   "outputs": [
    {
     "name": "stdout",
     "output_type": "stream",
     "text": [
      "'Hello,\\nworld!'\n",
      "Hello,\n",
      "world!\n"
     ]
    }
   ],
   "source": [
    "print(repr(\"Hello,\\nworld!\")) # 使用 repr 时,通常会获得值的合法Python表达式表示J\n",
    "print(str(\"Hello,\\nworld!\")) # 使用 str 能以合理的方式将值转换为用户能够看懂的字符串"
   ]
  },
  {
   "cell_type": "code",
   "execution_count": 11,
   "metadata": {},
   "outputs": [
    {
     "name": "stdout",
     "output_type": "stream",
     "text": [
      "This is a very long string. It continues here.\n",
      "And it's not over yet. \"Hello, world!\"\n",
      "Still here.\n"
     ]
    }
   ],
   "source": [
    "# 要表示很长的字符串(跨越多行的字符串),可使用三引号(而不是普通引号)\n",
    "print('''This is a very long string. It continues here.\n",
    "And it's not over yet. \"Hello, world!\"\n",
    "Still here.''')"
   ]
  },
  {
   "cell_type": "code",
   "execution_count": 12,
   "metadata": {},
   "outputs": [
    {
     "data": {
      "text/plain": [
       "'C:\\nowhere'"
      ]
     },
     "execution_count": 12,
     "metadata": {},
     "output_type": "execute_result"
    }
   ],
   "source": [
    "# 原始字符串不以特殊方式处理反斜杠\n",
    "path = 'C:\\nowhere'\n",
    "path"
   ]
  },
  {
   "cell_type": "code",
   "execution_count": 13,
   "metadata": {},
   "outputs": [
    {
     "name": "stdout",
     "output_type": "stream",
     "text": [
      "C:\n",
      "owhere\n"
     ]
    }
   ],
   "source": [
    "print(path)"
   ]
  },
  {
   "cell_type": "code",
   "execution_count": 14,
   "metadata": {},
   "outputs": [
    {
     "name": "stdout",
     "output_type": "stream",
     "text": [
      "C:\\nowhere\n"
     ]
    }
   ],
   "source": [
    "print('C:\\\\nowhere')"
   ]
  },
  {
   "cell_type": "code",
   "execution_count": 15,
   "metadata": {},
   "outputs": [
    {
     "name": "stdout",
     "output_type": "stream",
     "text": [
      "C:\\Program Files\\fnord\\foo\\bar\\baz\\frozz\\bozz\n"
     ]
    }
   ],
   "source": [
    "path = 'C:\\\\Program Files\\\\fnord\\\\foo\\\\bar\\\\baz\\\\frozz\\\\bozz'\n",
    "print(path)"
   ]
  },
  {
   "cell_type": "code",
   "execution_count": 17,
   "metadata": {},
   "outputs": [
    {
     "name": "stdout",
     "output_type": "stream",
     "text": [
      "C:\\Program Files\\fnord\\foo\\bar\\baz\\frozz\\bozz\n"
     ]
    }
   ],
   "source": [
    "print(r'C:\\Program Files\\fnord\\foo\\bar\\baz\\frozz\\bozz')"
   ]
  },
  {
   "cell_type": "code",
   "execution_count": 18,
   "metadata": {},
   "outputs": [
    {
     "ename": "SyntaxError",
     "evalue": "EOL while scanning string literal (<ipython-input-18-5dfa27b98a9b>, line 2)",
     "output_type": "error",
     "traceback": [
      "\u001b[0;36m  File \u001b[0;32m\"<ipython-input-18-5dfa27b98a9b>\"\u001b[0;36m, line \u001b[0;32m2\u001b[0m\n\u001b[0;31m    print(r\"This is illegal\\\")\u001b[0m\n\u001b[0m                              ^\u001b[0m\n\u001b[0;31mSyntaxError\u001b[0m\u001b[0;31m:\u001b[0m EOL while scanning string literal\n"
     ]
    }
   ],
   "source": [
    "# 原始字符串不能以单个反斜杠结尾\n",
    "print(r\"This is illegal\\\")"
   ]
  },
  {
   "cell_type": "code",
   "execution_count": 19,
   "metadata": {},
   "outputs": [
    {
     "name": "stdout",
     "output_type": "stream",
     "text": [
      "C:\\Program Files\\foo\\bar\\\n"
     ]
    }
   ],
   "source": [
    "# 指定以反斜杠结尾的原始字符串\n",
    "print(r'C:\\Program Files\\foo\\bar' '\\\\') # 将反斜杠单独作为一个字符串"
   ]
  },
  {
   "cell_type": "markdown",
   "metadata": {},
   "source": [
    "## Unicode、 bytes 和 bytearray\n",
    "- Python字符串使用Unicode编码来表示文本,每个Unicode字符都用一个码点(code point)表示,而码点是Unicode标准给每个字符指定的数字\n",
    "- 识别的方式表示129个文字系统中的12万个以上的字符\n",
    "- 一种指定Unicode字符的通用机制:使用16或32位的十六进制字面量(分别加上前缀 \\u 或 \\U )或者使用字符的Unicode名称( \\N{ name } )\n",
    "- 获悉字符的Unicode码点和名称,可在网上使用有关该字符的描述进行搜索,也可参阅特定的网站,如http://unicode-table.com\n",
    "- 几乎在所有情况下,都最好使用UTF-8。事实上,它也是默认使用的编码"
   ]
  },
  {
   "cell_type": "code",
   "execution_count": 20,
   "metadata": {},
   "outputs": [
    {
     "data": {
      "text/plain": [
       "'Æ'"
      ]
     },
     "execution_count": 20,
     "metadata": {},
     "output_type": "execute_result"
    }
   ],
   "source": [
    "\"\\u00C6\""
   ]
  },
  {
   "cell_type": "code",
   "execution_count": 21,
   "metadata": {},
   "outputs": [
    {
     "data": {
      "text/plain": [
       "'😊'"
      ]
     },
     "execution_count": 21,
     "metadata": {},
     "output_type": "execute_result"
    }
   ],
   "source": [
    "\"\\U0001F60A\""
   ]
  },
  {
   "cell_type": "code",
   "execution_count": 22,
   "metadata": {},
   "outputs": [
    {
     "data": {
      "text/plain": [
       "'This is a cat: 🐈'"
      ]
     },
     "execution_count": 22,
     "metadata": {},
     "output_type": "execute_result"
    }
   ],
   "source": [
    "\"This is a cat: \\N{Cat}\""
   ]
  },
  {
   "cell_type": "code",
   "execution_count": 23,
   "metadata": {},
   "outputs": [
    {
     "data": {
      "text/plain": [
       "b'Hello, world!'"
      ]
     },
     "execution_count": 23,
     "metadata": {},
     "output_type": "execute_result"
    }
   ],
   "source": [
    "'''\n",
    "Unicode的理念很简单,却带来了一些挑战,其中之一是编码问题。在内存和磁盘中,所有\n",
    "对象都是以二进制数字(0和1)表示的(这些数字每8个为一组,即1字节)\n",
    ",字符串也不例外。\n",
    "在诸如C等编程语言中,这些字节完全暴露,而字符串不过是字节序列而已。为与C语言互操作\n",
    "以及将文本写入文件或通过网络套接字发送出去, Python提供了两种类似的类型:不可变的 bytes\n",
    "和可变的 bytearray 。如果需要,可直接创建 bytes 对象(而不是字符串)\n",
    ",方法是使用前缀 b\n",
    "'''\n",
    "b'Hello, world!'"
   ]
  },
  {
   "cell_type": "code",
   "execution_count": 24,
   "metadata": {},
   "outputs": [
    {
     "data": {
      "text/plain": [
       "b'Hello, world!'"
      ]
     },
     "execution_count": 24,
     "metadata": {},
     "output_type": "execute_result"
    }
   ],
   "source": [
    "'''\n",
    "然而,1字节只能表示256个不同的值,离Unicode标准的要求差很远。Python bytes 字面量只\n",
    "支持ASCII标准中的128个字符,而余下的128个值必须用转义序列表示,如 \\xf0 表示十六进制值\n",
    "0xf0(即240)\n",
    "。\n",
    "唯一的差别好像在于可用的字母表规模,但实际上并非完全如此。乍一看,好像ASCII和\n",
    "Unicode定义的都是非负整数和字符之间的映射,但存在细微的差别:Unicode码点是使用整数定\n",
    "义的,而ASCII字符是使用对应的数及其二进制编码定义的。这一点好像无关紧要,原因之一是\n",
    "整数0~255和8位二进制数之间的映射是固定的,几乎没有任何机动空间。问题是超过1字节后,\n",
    "情况就不那么简单了:直接将每个码点表示为相应的二进制数可能不再可行。这是因为不仅存在\n",
    "字节顺序的问题(即便对整数值进行编码,也会遇到这样的问题),而且还可能浪费空间:如果\n",
    "对于每个码点都使用相同数量的字节进行编码,就必须考虑到文本可能包含安那托利亚象形文字\n",
    "或皇家亚兰字母。有一种Unicode编码标准是基于这种考虑的,它就是UTF-32(32位统一编码转\n",
    "换格式,Unicode Transformation Format 32 bits),但如果你主要处理的是使用互联网上常见语言\n",
    "书写的文本,那么使用这种编码标准将很浪费空间。\n",
    "然而,有一种非常巧妙的替代方式:不使用全部32位,而是使用变长编码,即对于不同的字\n",
    "符,使用不同数量的字节进行编码。这种编码方式主要出自计算机先锋Kenneth Thompson之手。\n",
    "通过使用这种编码,可节省占用的空间,就像摩尔斯码使用较少的点和短线表示常见的字母,从\n",
    "而减少工作量一样。具体地说,进行单字节编码时,依然使用ASCII编码,以便与较旧的系统兼\n",
    "容;但对于不在这个范围内的字符,使用多个字节(最多为6个)进行编码。下面来使用ASCII、\n",
    "UTF-8和UTF-32编码将字符串转换为 bytes 。\n",
    "'''\n",
    "\"Hello, world!\".encode(\"ASCII\")"
   ]
  },
  {
   "cell_type": "code",
   "execution_count": 25,
   "metadata": {},
   "outputs": [
    {
     "data": {
      "text/plain": [
       "b'Hello, world!'"
      ]
     },
     "execution_count": 25,
     "metadata": {},
     "output_type": "execute_result"
    }
   ],
   "source": [
    "\"Hello, world!\".encode(\"UTF-8\")"
   ]
  },
  {
   "cell_type": "code",
   "execution_count": 26,
   "metadata": {},
   "outputs": [
    {
     "data": {
      "text/plain": [
       "b'\\xff\\xfe\\x00\\x00H\\x00\\x00\\x00e\\x00\\x00\\x00l\\x00\\x00\\x00l\\x00\\x00\\x00o\\x00\\x00\\x00,\\x00\\x00\\x00 \\x00\\x00\\x00w\\x00\\x00\\x00o\\x00\\x00\\x00r\\x00\\x00\\x00l\\x00\\x00\\x00d\\x00\\x00\\x00!\\x00\\x00\\x00'"
      ]
     },
     "execution_count": 26,
     "metadata": {},
     "output_type": "execute_result"
    }
   ],
   "source": [
    "\"Hello, world!\".encode(\"UTF-32\")"
   ]
  },
  {
   "cell_type": "code",
   "execution_count": 27,
   "metadata": {},
   "outputs": [
    {
     "data": {
      "text/plain": [
       "17"
      ]
     },
     "execution_count": 27,
     "metadata": {},
     "output_type": "execute_result"
    }
   ],
   "source": [
    "len(\"How long is this?\".encode(\"UTF-8\"))"
   ]
  },
  {
   "cell_type": "code",
   "execution_count": 28,
   "metadata": {},
   "outputs": [
    {
     "data": {
      "text/plain": [
       "72"
      ]
     },
     "execution_count": 28,
     "metadata": {},
     "output_type": "execute_result"
    }
   ],
   "source": [
    "len(\"How long is this?\".encode(\"UTF-32\"))"
   ]
  },
  {
   "cell_type": "code",
   "execution_count": 29,
   "metadata": {},
   "outputs": [
    {
     "ename": "UnicodeEncodeError",
     "evalue": "'ascii' codec can't encode character '\\xe6' in position 1: ordinal not in range(128)",
     "output_type": "error",
     "traceback": [
      "\u001b[0;31m---------------------------------------------------------------------------\u001b[0m",
      "\u001b[0;31mUnicodeEncodeError\u001b[0m                        Traceback (most recent call last)",
      "\u001b[0;32m<ipython-input-29-0bed6ddcfe6e>\u001b[0m in \u001b[0;36m<module>\u001b[0;34m()\u001b[0m\n\u001b[0;32m----> 1\u001b[0;31m \u001b[0;34m\"Hællå, wørld!\"\u001b[0m\u001b[0;34m.\u001b[0m\u001b[0mencode\u001b[0m\u001b[0;34m(\u001b[0m\u001b[0;34m\"ASCII\"\u001b[0m\u001b[0;34m)\u001b[0m\u001b[0;34m\u001b[0m\u001b[0;34m\u001b[0m\u001b[0m\n\u001b[0m",
      "\u001b[0;31mUnicodeEncodeError\u001b[0m: 'ascii' codec can't encode character '\\xe6' in position 1: ordinal not in range(128)"
     ]
    }
   ],
   "source": [
    "\"Hællå, wørld!\".encode(\"ASCII\")"
   ]
  },
  {
   "cell_type": "code",
   "execution_count": 30,
   "metadata": {},
   "outputs": [
    {
     "data": {
      "text/plain": [
       "b'Hll, wrld!'"
      ]
     },
     "execution_count": 30,
     "metadata": {},
     "output_type": "execute_result"
    }
   ],
   "source": [
    "'''\n",
    "斯堪的纳维亚字母没有对应的ASCII编码。如果必须使用ASCII编码(这样的情况肯定会遇\n",
    "到),可向 encode 提供另一个实参,告诉它如何处理错误。这个参数默认为 strict ,但可将其指\n",
    "定为其他值,以忽略或替换不在ASCII表中的字符\n",
    "'''\n",
    "\"Hællå, wørld!\".encode(\"ASCII\",\"ignore\")"
   ]
  },
  {
   "cell_type": "code",
   "execution_count": 31,
   "metadata": {},
   "outputs": [
    {
     "data": {
      "text/plain": [
       "b'H?ll?, w?rld!'"
      ]
     },
     "execution_count": 31,
     "metadata": {},
     "output_type": "execute_result"
    }
   ],
   "source": [
    "\"Hællå, wørld!\".encode(\"ASCII\",\"replace\")"
   ]
  },
  {
   "cell_type": "code",
   "execution_count": 32,
   "metadata": {},
   "outputs": [
    {
     "data": {
      "text/plain": [
       "b'H\\\\xe6ll\\\\xe5, w\\\\xf8rld!'"
      ]
     },
     "execution_count": 32,
     "metadata": {},
     "output_type": "execute_result"
    }
   ],
   "source": [
    "\"Hællå, wørld!\".encode(\"ASCII\",\"backslashreplace\")"
   ]
  },
  {
   "cell_type": "code",
   "execution_count": 33,
   "metadata": {},
   "outputs": [
    {
     "data": {
      "text/plain": [
       "b'H&#230;ll&#229;, w&#248;rld!'"
      ]
     },
     "execution_count": 33,
     "metadata": {},
     "output_type": "execute_result"
    }
   ],
   "source": [
    "\"Hællå, wørld!\".encode(\"ASCII\",\"xmlcharrefreplace\")"
   ]
  },
  {
   "cell_type": "code",
   "execution_count": 34,
   "metadata": {},
   "outputs": [
    {
     "data": {
      "text/plain": [
       "b'H\\xc3\\xa6ll\\xc3\\xa5, w\\xc3\\xb8rld!'"
      ]
     },
     "execution_count": 34,
     "metadata": {},
     "output_type": "execute_result"
    }
   ],
   "source": [
    "# 几乎在所有情况下,都最好使用UTF-8。事实上,它也是默认使用的编码\n",
    "\"Hællå, wørld!\".encode()"
   ]
  },
  {
   "cell_type": "code",
   "execution_count": 35,
   "metadata": {},
   "outputs": [
    {
     "data": {
      "text/plain": [
       "'Hællå, wørld!'"
      ]
     },
     "execution_count": 35,
     "metadata": {},
     "output_type": "execute_result"
    }
   ],
   "source": [
    "'''\n",
    "这相比于Hello, world!,编码结果要长些;但使用UTF-32编码时,结果一样长。\n",
    "可将字符串编码为 bytes ,同样也可将 bytes 解码为字符串。\n",
    "'''\n",
    "b'H\\xc3\\xa6ll\\xc3\\xa5, w\\xc3\\xb8rld!'.decode()"
   ]
  },
  {
   "cell_type": "code",
   "execution_count": 36,
   "metadata": {},
   "outputs": [
    {
     "data": {
      "text/plain": [
       "b'H\\xc3\\xa6ll\\xc3\\xa5, w\\xc3\\xb8rld!'"
      ]
     },
     "execution_count": 36,
     "metadata": {},
     "output_type": "execute_result"
    }
   ],
   "source": [
    "'''\n",
    "与前面一样,默认编码也是UTF-8。你可指定其他编码,但如果指定的编码不正确,将出现\n",
    "错误消息或得到一堆乱码。 bytes 对象本身并不知道使用的是哪种编码,因此你必须负责跟踪这\n",
    "一点。\n",
    "可不使用方法 encode 和 decode ,而直接创建 bytes 和 str (即字符串)对象,如下所示:\n",
    "'''\n",
    "bytes(\"Hællå, wørld!\", encoding=\"utf-8\")"
   ]
  },
  {
   "cell_type": "code",
   "execution_count": 37,
   "metadata": {},
   "outputs": [
    {
     "data": {
      "text/plain": [
       "'Hællå, wørld!'"
      ]
     },
     "execution_count": 37,
     "metadata": {},
     "output_type": "execute_result"
    }
   ],
   "source": [
    "str(b'H\\xc3\\xa6ll\\xc3\\xa5, w\\xc3\\xb8rld!', encoding=\"utf-8\")"
   ]
  },
  {
   "cell_type": "code",
   "execution_count": 38,
   "metadata": {},
   "outputs": [
    {
     "data": {
      "text/plain": [
       "bytearray(b'Hullo!')"
      ]
     },
     "execution_count": 38,
     "metadata": {},
     "output_type": "execute_result"
    }
   ],
   "source": [
    "'''\n",
    "这种方法更通用一些,在你不知道类似于字符串或 bytes 的对象属于哪个类时,使用这种方\n",
    "法也更管用。一个通用规则是,不要做过于严格的假设。\n",
    "编码和解码的最重要用途之一是,将文本存储到磁盘文件中。然而,Python提供的文件读写\n",
    "机制通常会替你完成这方面的工作!只要文件使用的是UTF-8编码,就无需操心编码和解码的问\n",
    "题。但如果原本正常的文本变成了乱码,就说明文件使用的可能是其他编码。在这种情况下,对\n",
    "导致这种问题的原因有所了解将大有裨益。如果你想更详细地了解Python中的Unicode,请参阅\n",
    "在线文档中有关该主题的HOWTO部分。\n",
    "=========================================================================\n",
    "源代码也将被编码,且默认使用的也是UTF-8编码。如果你想使用其他编码(例如,如果\n",
    "你使用的文本编辑器使用其他编码来存储源代码),可使用特殊的注释来指定。\n",
    "# -*- coding: encoding name -*-\n",
    "请将其中的 encoding name 替换为你要使用的编码(大小写都行),如 utf-8 或 latin-1 。\n",
    "=========================================================================\n",
    "最后,Python还提供了 bytearray ,它是 bytes 的可变版。从某种意义上说,它就像是可修改\n",
    "的字符串——常规字符串是不能修改的。然而, bytearray 其实是为在幕后使用而设计的,因此\n",
    "作为类字符串使用时对用户并不友好。例如,要替换其中的字符,必须将其指定为0~255的值。\n",
    "因此,要插入字符,必须使用 ord 获取其序数值(ordinal value)。\n",
    "'''\n",
    "x = bytearray(b\"Hello!\")\n",
    "x[1] = ord(b\"u\")\n",
    "x"
   ]
  },
  {
   "cell_type": "code",
   "execution_count": null,
   "metadata": {},
   "outputs": [],
   "source": [
    "'''\n",
    "算法:算法犹如菜谱,告诉你如何完成特定的任务。从本质上说,编写计算机程序就是\n",
    "使用计算机能够理解的语言(如Python)描述一种算法。这种对机器友好的描述被称为程\n",
    "序,主要由表达式和语句组成。\n",
    " 表达式:表达式为程序的一部分,结果为一个值。例如, 2 + 2 就是一个表达式,结果为\n",
    "4 。简单表达式是使用运算符(如 + 或 % )和函数(如 pow )将字面值(如 2 或 \"Hello\" )组\n",
    "合起来得到的。通过组合简单的表达式,可创建复杂的表达式,如 (2 + 2) *(3 - 1) 。表\n",
    "达式还可能包含变量。\n",
    " 变量:变量是表示值的名称。通过赋值,可将新值赋给变量,如 x = 2 。赋值是一种语句。\n",
    " 语句:语句是让计算机执行特定操作的指示。这种操作可能是修改变量(通过赋值)\n",
    "、将\n",
    "信息打印到屏幕上(如 print(\"Hello, world!\") )、导入模块或执行众多其他任务。\n",
    " 函数:Python函数类似于数学函数,它们可能接受参数,并返回结果(在第6章学习编写\n",
    "自定义函数时,你将发现函数实际上可以在返回前做很多事情)。\n",
    " 模块:模块是扩展,可通过导入它们来扩展Python的功能。例如,模块 math 包含多个很有\n",
    "用的函数。\n",
    " 程序:你通过练习学习了如何编写、保存和运行Python程序。\n",
    " 字符串:字符串非常简单。它们其实就是一段文本,其中的字符是用Unicode码点表示的。\n",
    "然而,对于字符串,需要学习的知识有很多。本章介绍了很多表示字符串的方式,第3章\n",
    "将介绍众多字符串用法。\n",
    "==========================================================================\n",
    "abs(number) 返回指定数的绝对值\n",
    "bytes(string, encoding[, errors]) 对指定的字符串进行编码,并以指定的方式处理错误\n",
    "cmath.sqrt(number) 返回平方根;可用于负数\n",
    "float(object) 将字符串或数字转换为浮点数\n",
    "help([object]) 提供交互式帮助\n",
    "input(prompt) 以字符串的方式获取用户输入\n",
    "int(object) 将字符串或数转换为整数\n",
    "math.ceil(number) 以浮点数的方式返回向上圆整的结果\n",
    "math.floor(number) 以浮点数的方式返回向下圆整的结果\n",
    "math.sqrt(number) 返回平方根;不能用于负数\n",
    "pow(x, y[, z]) 返回 x 的 y 次方对 z 求模的结果\n",
    "print(object, ...) 将提供的实参打印出来,并用空格分隔\n",
    "repr(object) 返回指定值的字符串表示\n",
    "round(number[, ndigits]) 四舍五入为指定的精度,正好为5时舍入到偶数\n",
    "str(object) 将指定的值转换为字符串。用于转换 bytes 时,可指定编码和错误处理方式\n",
    "'''"
   ]
  }
 ],
 "metadata": {
  "kernelspec": {
   "display_name": "Python 3",
   "language": "python",
   "name": "python3"
  },
  "language_info": {
   "codemirror_mode": {
    "name": "ipython",
    "version": 3
   },
   "file_extension": ".py",
   "mimetype": "text/x-python",
   "name": "python",
   "nbconvert_exporter": "python",
   "pygments_lexer": "ipython3",
   "version": "3.7.4"
  }
 },
 "nbformat": 4,
 "nbformat_minor": 2
}
