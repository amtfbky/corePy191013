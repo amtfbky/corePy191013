{
 "cells": [
  {
   "cell_type": "code",
   "execution_count": 5,
   "metadata": {},
   "outputs": [
    {
     "name": "stdout",
     "output_type": "stream",
     "text": [
      "3514\n",
      "3566\n",
      "4661\n"
     ]
    }
   ],
   "source": [
    "# 变量\n",
    "found_coins = 20\n",
    "magic_coins = 10\n",
    "stolen_coins = 3\n",
    "\n",
    "sum_coins = found_coins + magic_coins * 365 - stolen_coins * 52\n",
    "print(sum_coins)\n",
    "\n",
    "stolen_coins = 2\n",
    "sum_coins = found_coins + magic_coins * 365 - stolen_coins * 52\n",
    "print(sum_coins)\n",
    "\n",
    "magic_coins = 13\n",
    "sum_coins = found_coins + magic_coins * 365 - stolen_coins * 52\n",
    "print(sum_coins)"
   ]
  },
  {
   "cell_type": "code",
   "execution_count": 6,
   "metadata": {},
   "outputs": [
    {
     "name": "stdout",
     "output_type": "stream",
     "text": [
      "How do dinosaurs pay their bills?\n",
      "With tyrannosaurus checks!\n",
      "He said, \"Aren't can't shouldn't wouldn't.\"\n",
      "He said, \"Aren't can't shouldn't wouldn't.\"\n"
     ]
    }
   ],
   "source": [
    "# 字符串\n",
    "fred = 'Why do gorillas have big nostrils? Big fingers!'\n",
    "fred = \"What is pink and fluffy? Pink fluff!\"\n",
    "\n",
    "# fred = \"What is pink and fluffy? Pink fluff!\n",
    "# SyntaxError: EOL while scanning string literal\n",
    "# 语法错误：扫读字符串文本时遇到了EOL行结尾，EOL:end-of-line\n",
    "fred ='''How do dinosaurs pay their bills?\n",
    "With tyrannosaurus checks!'''\n",
    "print(fred)\n",
    "\n",
    "# SyntaxError: invalid syntax\n",
    "#silly_string = 'He said, \"Aren't can't shouldn't wouldn't.\"'\n",
    "#silly_string = \"He said, \"Aren't can't shouldn't wouldn't.\"\"\n",
    "\n",
    "single_quote_str = 'He said, \"Aren\\'t can\\'t shouldn\\'t wouldn\\'t.\"'\n",
    "double_quote_str = \"He said, \\\"Aren't can't shouldn't wouldn't.\\\"\"\n",
    "print(single_quote_str)\n",
    "print(double_quote_str)\n",
    "'''\n",
    "为什么大猩猩有大鼻孔？大手指！\n",
    "什么是粉色和蓬松的？粉色绒毛！\n",
    "恐龙是如何付账的？用暴龙的支票！\n",
    "他说，“不可以不应该不会。”\n",
    "愚蠢的\n",
    "'''"
   ]
  },
  {
   "cell_type": "code",
   "execution_count": null,
   "metadata": {},
   "outputs": [],
   "source": []
  }
 ],
 "metadata": {
  "kernelspec": {
   "display_name": "Python 3",
   "language": "python",
   "name": "python3"
  },
  "language_info": {
   "codemirror_mode": {
    "name": "ipython",
    "version": 3
   },
   "file_extension": ".py",
   "mimetype": "text/x-python",
   "name": "python",
   "nbconvert_exporter": "python",
   "pygments_lexer": "ipython3",
   "version": "3.7.4"
  }
 },
 "nbformat": 4,
 "nbformat_minor": 2
}
